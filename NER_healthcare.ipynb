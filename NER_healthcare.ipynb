{
  "cells": [
    {
      "cell_type": "markdown",
      "metadata": {
        "id": "xwi9mzFPPDv7"
      },
      "source": [
        "# Identifying Entities in Healthcare Data"
      ]
    },
    {
      "cell_type": "markdown",
      "metadata": {
        "id": "3wwzoMzrUDtr"
      },
      "source": [
        "## Importing packages"
      ]
    },
    {
      "cell_type": "code",
      "execution_count": 21,
      "metadata": {
        "id": "T4hxafMCE1nn"
      },
      "outputs": [],
      "source": [
        "#!pip install pycrf\n",
        "#!pip install sklearn-crfsuite\n",
        "\n",
        "import spacy\n",
        "import sklearn_crfsuite\n",
        "from sklearn_crfsuite import metrics\n",
        "import re\n",
        "from tqdm import tqdm\n",
        "# Loading spacy model\n",
        "model = spacy.load(\"en_core_web_sm\")\n",
        "import pandas as pd"
      ]
    },
    {
      "cell_type": "markdown",
      "metadata": {
        "id": "bE9Hwb3AUHwG"
      },
      "source": [
        "## Data Preprocessing"
      ]
    },
    {
      "cell_type": "markdown",
      "metadata": {
        "id": "bz6czVx9R6WJ"
      },
      "source": [
        "### Reading the data"
      ]
    },
    {
      "cell_type": "code",
      "execution_count": 22,
      "metadata": {
        "id": "TE31q8yxVdU-"
      },
      "outputs": [],
      "source": [
        "# Train data\n",
        "train  = open(\"train_sent\",\"r\").readlines()\n",
        "train = \"\".join(train).replace(\"\\n\",\" \")\n",
        "train_labels  = open(\"train_label\",\"r\").readlines()\n",
        "train_labels = \"\".join(train_labels).replace(\"\\n\",\" \")\n",
        "# Test data\n",
        "test  = open(\"test_sent\",\"r\").readlines()\n",
        "test = \"\".join(test).replace(\"\\n\",\" \")\n",
        "test_labels  = open(\"test_label\",\"r\").readlines()\n",
        "test_labels = \"\".join(test_labels).replace(\"\\n\",\" \")"
      ]
    },
    {
      "cell_type": "markdown",
      "metadata": {},
      "source": [
        "### Converting to required format and printing 5 sentences from training set"
      ]
    },
    {
      "cell_type": "code",
      "execution_count": 23,
      "metadata": {
        "id": "k4gdPBHwLdNX"
      },
      "outputs": [
        {
          "name": "stdout",
          "output_type": "stream",
          "text": [
            "All live births > or = 23 weeks at the University of Vermont in 1995 ( n = 2395 ) were retrospectively analyzed for delivery route , indication for cesarean , gestational age , parity , and practice group ( to reflect risk status )\n",
            "The total cesarean rate was 14.4 % ( 344 of 2395 ) , and the primary rate was 11.4 % ( 244 of 2144 )\n",
            "Abnormal presentation was the most common indication ( 25.6 % , 88 of 344 )\n",
            "The `` corrected '' cesarean rate ( maternal-fetal medicine and transported patients excluded ) was 12.4 % ( 273 of 2194 ) , and the `` corrected '' primary rate was 9.6 % ( 190 of 1975 )\n",
            "Arrest of dilation was the most common indication in both `` corrected '' subgroups ( 23.4 and 24.6 % , respectively )\n"
          ]
        }
      ],
      "source": [
        "# Function for returning sentences in required format\n",
        "def return_sentences(data):\n",
        "    pattern = \"(\\s\\s)\" # searching for two spaces\n",
        "    output_corpus = []\n",
        "    start = 0\n",
        "    for match in re.finditer(pattern,data):\n",
        "        output_corpus.append(data[start:match.start()])\n",
        "        start = match.end()\n",
        "    return output_corpus\n",
        "\n",
        "# Converting to required format\n",
        "train_corpus = return_sentences(train)\n",
        "train_labels = return_sentences(train_labels)\n",
        "test_corpus = return_sentences(test)\n",
        "test_labels = return_sentences(test_labels)\n",
        "\n",
        "# Printing 5 sentences\n",
        "for i in range(0,5):\n",
        "    print(train_corpus[i])"
      ]
    },
    {
      "cell_type": "code",
      "execution_count": 24,
      "metadata": {
        "id": "zwa18H_IMFXV"
      },
      "outputs": [
        {
          "name": "stdout",
          "output_type": "stream",
          "text": [
            "The number of sentences in train dataset is  2599\n",
            "The number of sentences in test dataset is  1056\n"
          ]
        }
      ],
      "source": [
        "print(\"The number of sentences in train dataset is \", len(train_corpus))\n",
        "print(\"The number of sentences in test dataset is \", len(test_corpus))"
      ]
    },
    {
      "cell_type": "code",
      "execution_count": 25,
      "metadata": {
        "id": "unXoD2bWLPZD"
      },
      "outputs": [
        {
          "name": "stdout",
          "output_type": "stream",
          "text": [
            "The number of lines of labels in train dataset is  2599\n",
            "The number of lines of labels in test dataset is  1056\n"
          ]
        }
      ],
      "source": [
        "print(\"The number of lines of labels in train dataset is \", len(train_labels))\n",
        "print(\"The number of lines of labels in test dataset is \", len(test_labels))"
      ]
    },
    {
      "cell_type": "markdown",
      "metadata": {
        "id": "r9Hy2tECbd9a"
      },
      "source": [
        "## Concept Identification"
      ]
    },
    {
      "cell_type": "markdown",
      "metadata": {
        "id": "3YGpfOK7Mk3X"
      },
      "source": [
        "### Extracting tokens which have NOUN or PROPN as their PoS tag and finding their frequency"
      ]
    },
    {
      "cell_type": "code",
      "execution_count": 26,
      "metadata": {
        "id": "7w8nJSPlZqjw"
      },
      "outputs": [
        {
          "name": "stdout",
          "output_type": "stream",
          "text": [
            "The total number of sentences are:  3655\n"
          ]
        },
        {
          "name": "stderr",
          "output_type": "stream",
          "text": [
            "100%|██████████| 3655/3655 [00:19<00:00, 191.33it/s]"
          ]
        },
        {
          "name": "stdout",
          "output_type": "stream",
          "text": [
            "Tokens that are noun or propn in the entire data set are:  5802\n",
            "{'births': 2, 'weeks': 37, 'university': 7, 'vermont': 1, 'delivery': 22, 'route': 2, 'indication': 5, 'age': 56, 'parity': 4, 'practice': 32, 'group': 111, 'risk': 74, 'status': 17, 'rate': 68, '%': 247, 'presentation': 7, 'medicine': 42, 'patients': 507, 'arrest': 6, 'dilation': 4, 'subgroups': 4, 'rates': 35, 'care': 56, 'hospitals': 10, 'community': 16, 'groups': 34, 'trimester': 4, 'index': 14, 'afi': 7, 'temperature': 10, 'increases': 7, 'decrease': 6, 'june': 2, 'august': 6, 'period': 28, 'heat': 5, 'women': 81, 'singleton': 1, 'pregnancies': 7, 'gestation': 4, 'testing': 23, 'determinations': 2, 'ambient': 1, 'area': 13, 'day': 36, 'mean': 4, 'test': 22, 'date': 3, 'spearman': 1, 'rank': 2, 'correlation': 19, 'relationship': 14, 'account': 4, 'measure': 4, 'being': 2, 'study': 173, 'population': 31, 'diabetes': 34, 'screening': 13, 'clinic': 5, 'hadassah': 1, 'medical': 6, 'center': 10, 'year': 47, 'treatment': 304, 'week': 11, 'protocol': 6, 'control': 57, 'characteristics': 20, 'differences': 24, 'mode': 3, 'apgar': 1, 'scores': 8, 'infants': 25, 'cases': 72, 'aim': 8, 'contribution': 4, 'markers': 22, 'diagnosis': 52, 'fetuses': 9, 'years': 58, 'syndrome': 58, 'edward': 2, 'trisomies': 2, 'patau': 2, 'anomalies': 6, 'signs': 7, 'trisomy': 4, 'features': 14, 'hydramnios': 2, 'malformations': 10, 'pyelectasis': 1, 'atresia': 1, 'growth': 42, 'retardation': 2, 'bradycardia': 4, 'hydronephrosis': 1, 'triplet': 7, 'new': 7, 'york': 5, 'hospital': 27, 'cornell': 1, 'preeclampsia': 21, 'criteria': 13, 'student': 5, 't': 24, 'chi': 4, 'square': 2, 'analysis': 76, 'case': 60, 'pre': 2, '-': 19, 'eclampsia': 1, 'gestations': 5, 'twins': 1, 'information': 17, 'order': 10, 'survey': 14, 'variety': 7, 'styles': 1, 'nicus': 4, 'incubators': 2, 'warmers': 3, 'ages': 5, 'audit': 6, 'use': 87, 'plastic': 4, 'covers': 1, 'mattresses': 1, 'humidity': 1, 'discrepancies': 1, 'responses': 15, 'variability': 4, 'equipment': 4, 'management': 56, 'report': 33, 'term': 58, 'hemorrhage': 11, 'movements': 4, 'hr': 4, 'nonstress': 1, 'profile': 5, 'omphalocele': 3, 'exstrophy': 3, 'imperforate': 1, 'anus': 3, 'defects': 13, 'oeis': 2, 'complex': 6, 'combination': 59, 'bladder': 8, 'defect': 1, 'development': 25, 'mesoderm': 2, 'mesenchyme': 1, 'septum': 3, 'caudal': 1, 'vertebrae': 1, 'meningomyeloceles': 2, 'limb': 5, 'inheritance': 2, 'association': 31, 'survival': 67, 'surgery': 73, 'meningomyelocele': 1, 'aplasia': 2, 'hypoplasia': 2, 'patient': 63, 'quality': 17, 'life': 24, 'counseling': 2, 'family': 21, 'obstetricians': 1, 'surgeons': 3, 'urologists': 1, 'neurosurgeons': 1, 'neonatologists': 1, 'nonimmune': 3, 'hydrops': 5, 'fetails': 1, 'ascites': 1, 'hydrothorax': 1, 'effusion': 3, 'regression': 9, 'lucencies': 2, 'cord': 7, 'insertion': 6, 'inspection': 2, 'placenta': 2, 'lesion': 8, 'fibrin': 1, 'deposits': 1, 'site': 24, 'absorption': 7, 'hematoma': 6, 'diseases': 21, 'multisystem': 1, 'disorders': 23, 'presence': 17, 'mitochondria': 1, 'reports': 9, 'woman': 8, 'chronic': 3, 'progressive': 3, 'external': 1, 'ophthalmoplegia': 3, 'kearns': 1, 'sayre': 1, 'labor': 7, 'hypertension': 25, 'context': 7, 'loci': 8, 'alzheimer': 9, 'disease': 149, 'ad': 11, 'amyloid': 7, 'precursor': 2, 'protein': 59, 'gene': 91, 'presenilin': 3, 'e': 10, 'factors': 37, 'onset': 18, 'genomic': 1, 'screen': 9, 'n=280': 1, 'values': 14, 'follow': 13, 'up': 10, 'p': 70, 'value': 22, 'pair': 3, 'sibpair': 2, 'lod': 4, 'score': 9, 'data': 61, 'series': 7, 'families': 24, '>': 4, 'national': 9, 'insititute': 1, 'neurological': 1, 'stroke': 14, 'related': 2, 'dna': 24, 'subset': 6, 'members': 9, 'main': 7, 'outcome': 38, 'measures': 14, 'linkage': 6, 'results': 105, 'model': 25, 'methods': 60, 'regions': 11, 'analyses': 10, 'interest': 12, 'chromosomes': 3, 'peak': 6, 'point': 9, 'affecteds': 1, 'n=54': 3, 'pairs': 4, '.03': 1, '.14': 1, 'd12s373': 1, 'd12s1057': 1, 'd12s1042': 1, 'mlss': 2, 'multipoint': 3, 'mls': 3, 'chromosome': 21, 'susceptibility': 23, 'knowledge': 8, 'mutations': 51, 'objectives': 11, 'brca1': 9, 'mutation': 24, 'breast': 29, 'cancer': 211, 'participant': 1, 'locus': 14, 'major': 2, 'sequence': 20, 'variants': 5, 'sample': 9, 'alterations': 6, 'significance': 10, 'polymorphisms': 6, 'bias': 1, 'exon': 7, 'ashkenazi': 1, 'ethnicity': 2, 'history': 12, 'probability': 4, 'prostate': 27, 'hpc1': 5, '1q24': 1, 'base': 10, 'reference': 8, 'comparison': 37, 'men': 18, 'basis': 11, 'region': 25, 'serum': 28, 'antigen': 11, 'levels': 27, 'examination': 10, 'stage': 47, 'grade': 21, 'cancers': 15, 'occurrence': 7, 'p=.01': 1, 'p=.03': 1, 'parameters': 14, 'excess': 5, 'colon': 7, 'difference': 15, 'tumors': 34, 'fraction': 4, 'stages': 8, 'importance': 14, 'detection': 20, 'genes': 20, 'findings': 27, 'recommendations': 7, 'sclerosis': 11, 'ms': 12, 'component': 6, 'hla': 5, '6p21.3': 1, 'apoe': 4, 'mbp': 3, 'myelin': 2, 'subjects': 25, 'total': 8, 'individuals': 6, 'california': 2, 'beijing': 1, 'china': 2, 'chi2': 1, 'alleles': 2, 'haplotypes': 3, 'haplotype': 4, 'frequencies': 5, 'likelihood': 3, 'effect': 82, 'class': 12, 'ii': 19, 'dr2': 2, 'drb1': 3, '*': 3, 'dqa1': 1, 'contributions': 2, 'dqb1': 1, 'distribution': 7, 'd19s178': 1, 'd19s574': 2, 'apoc2': 1, 'samples': 13, 'variation': 6, 'influence': 11, 'location': 3, 'survivors': 4, 'childhood': 11, 'retinoblastoma': 12, 'role': 47, 'radiotherapy': 33, 'incidence': 30, 'median': 5, 'radiation': 29, 'response': 66, 'bone': 49, 'tissue': 28, 'sarcomas': 11, 'setting': 4, 'participants': 5, 'records': 8, 'massachusetts': 4, 'rr': 1, 'confidence': 11, 'interval': 16, '+': 9, '/-se': 1, 'histologic': 5, 'types': 9, 'rrs': 1, 'increase': 23, 'categories': 4, 'gy': 4, 'to_see': 43, 'conclusions': 57, 'predisposition': 3, 'impact': 7, 'time': 43, 'humans': 10, 'adulthood': 1, 'objective': 7, 'cocaine': 11, 'preterm': 6, 'rupture': 12, 'membranes': 7, 'prom': 3, 'latency': 3, 'urine': 16, 'toxicology': 1, 'screens': 2, 'tocolytics': 1, 'chorioamnionitis': 2, 'heart': 45, 'drug': 46, 'americans': 1, 'reason': 2, 'segments': 1, 'interview': 6, 'enrollment': 2, 'fisher': 4, 'tests': 13, 'users': 6, 'alcohol': 7, 'fetus': 4, 'pregnancy': 39, 'hiv': 29, 'half': 3, 'transmission': 7, 'times': 10, 'therapy': 177, 'city': 4, 'parvovirus': 4, 'b19': 1, 'infection': 48, 'fetalis': 4, 'background': 40, 'implantation': 7, 'method': 36, 'rehabilitation': 12, 'adults': 22, 'children': 66, 'adult': 19, 'nucleus': 2, 'ci22': 1, 'm': 5, 'speak': 1, 'strategy': 14, 'tune': 2, 'set': 5, 'speech': 5, 'understanding': 8, 'improvement': 19, 'cis': 1, 'effects': 99, 'situations': 1, 'warning': 2, 'signals': 5, 'experiences': 4, 'pharmacovigilance': 4, 'reporting': 2, 'type': 33, 'b': 46, 'reactions': 10, 'minority': 3, 'dosage': 7, 'examples': 2, 'sources': 4, 'prescription': 6, 'event': 7, 'monitoring': 7, 'resources': 2, 'morbidity': 12, 'record': 3, 'surveillance': 4, 'studies': 61, 'proposal': 2, 'signal': 14, 'procedure': 10, 'centres': 2, 'steps': 3, 'delineation': 1, 'literature': 14, 'search': 7, 'inventory': 2, 'collection': 1, 'consultation': 6, 'world': 10, 'health': 61, 'organization': 9, 'centre': 7, 'international': 14, 'companies': 1, 'assessment': 23, 'writing': 1, 'conditions': 13, 'mechanisms': 10, 'strategies': 11, 'safety': 23, 'efficacy': 35, 'methylphenidate': 13, 'epilepsy': 7, 'attention': 9, 'deficit': 5, 'hyperactivity': 3, 'disorder': 13, 'adhd': 3, 'design': 16, 'month': 13, 'months': 41, 'drugs': 28, 'aeds': 2, 'morning': 1, 'dose': 44, 'mg': 48, 'kg': 6, 'brain': 32, 'tomography': 5, 'iq': 1, 'behavior': 12, 'checklist': 2, 'baseline': 4, 'electroencephalography': 1, 'aed': 4, 'performance': 13, 'task': 7, 'cpt': 3, 'days': 27, 'child': 12, 'capsule': 5, 'placebo': 37, 'none': 3, 'attacks': 3, 'seizures': 9, 'change': 12, 'reduction': 12, 'caution': 2, 'properties': 8, 'processes': 9, 'production': 11, 'paradigm': 4, 'movement': 1, 'potentials': 4, 'picture': 4, 'addition': 15, 'choice': 10, 'reaction': 18, 'go': 3, 'categorization': 1, 'name': 2, 'readiness': 1, 'lrps': 1, 'motor': 7, 'moments': 1, 'position': 6, 'phoneme': 1, 'lrp': 3, 'trials': 42, 'duration': 18, 'encoding': 4, 'word': 1, 'replacement': 10, 'tryptophan': 4, 'residues': 3, 'gramicidin': 3, 'a': 28, 'positions': 3, 'glycine': 4, 'heterogeneity': 6, 'species': 13, 'micelles': 4, 'interior': 1, 'micelle': 1, 'alanine': 3, 'substitution': 3, 'gly-11': 1, 'gly-13': 1, 'gly-15': 1, 'analogs': 4, 'sds': 5, 'concentration': 15, 'formation': 16, 'gly-9': 1, 'ala-9': 1, 'ala-15': 1, 'dynamics': 11, 'torsion': 7, 'angle': 11, 'space': 3, 'resonance': 21, 'structure': 17, 'calculation': 2, 'overhauser': 1, 'distances': 2, 'j': 2, 'restraints': 1, 'algorithms': 1, 'matrix': 4, 'geometry': 2, 'cartesian': 3, 'efficiency': 3, 'success': 6, 'proteins': 23, 'radius': 1, 'convergence': 1, 'algorithm': 2, 'strand': 3, 'conformation': 1, 'proceeds': 2, 'minimization': 1, 'nmr': 6, 'g': 34, 'interleukin-8': 2, 'villin': 2, 'duplex': 2, 'trypsin': 2, 'inhibitor': 10, 'monomer': 1, 'determination': 6, 'wavelet': 4, 'transform': 3, 'spectroscopy': 6, 'mrs': 5, 'chemical': 10, 'shift': 3, 'relaxation': 3, 't2': 2, 'amplitude': 4, 'phase': 35, 'transformation': 2, 'frequency': 15, 'representation': 1, 'fid': 1, 'procedures': 17, 'quantification': 2, 'aspirin': 26, 'anticoagulation': 1, 'warfarin': 11, 'mortality': 22, 'infarction': 33, 'coumadin': 2, 'reinfarction': 3, 'cars': 2, 'monotherapy': 9, 'bleeding': 5, 'tablet': 1, 'pt': 6, 'measurements': 9, 'maximum': 2, 'death': 25, 'comparisons': 2, '=': 12, 'inr': 1, 'iqr': 1, 'interpretation': 5, 'low': 3, 'benefit': 11, 'achievable': 1, 'evidence': 62, 'chlamydia': 7, 'pneumoniae': 4, 'hypothesis': 9, 'macrolide': 1, 'roxithromycin': 5, 'events': 18, 'angina': 9, 'endpoints': 1, 'recurrent': 1, 'ischaemia': 2, 'intention': 3, 'endpoint': 2, 'scale': 10, 'observations': 6, 'ib': 3, 'carcinoma': 51, 'complications': 26, 'trial': 49, 'pattern': 3, 'recurrences': 1, 'september': 7, 'december': 6, 'institute': 5, 'pt2b': 1, 'mm': 19, 'stroma': 1, 'cut': 2, 'nodes': 3, 'recurrence': 10, 'diameters': 2, 'cm': 5, 'overall': 1, 'univariate': 1, 'multivariate': 2, 'diameter': 2, 'lymphangiography': 1, 'adeno': 1, 'histotype': 1, 'illness': 10, 'cure': 10, 'today': 3, 'technology': 5, 'providers': 5, 'town': 1, 'state': 10, 'country': 2, 'lines': 6, 'licensure': 1, 'issues': 9, 'introduction': 7, 'feeds': 1, 'modulation': 2, 'expression': 29, 'lymphocytes': 4, 'progesterone': 2, 'blocking': 2, 'factor': 30, 'pibf': 8, 'conception': 2, 'cycles': 3, 'fertilization': 3, 'embryo': 4, 'antibody': 21, 'conclusion': 32, 'trophoblast': 2, 'invasion': 3, 'acids': 20, 'laevorotatory': 1, 'l': 11, 'dextrorotatory': 1, 'd': 18, 'compounds': 6, 'earth': 5, 'comet': 1, 'impacts': 1, 'murchison': 4, 'meteorite': 2, 'enantiomers': 6, 'possibility': 5, 'carbon': 6, 'isotope': 1, 'compositions': 1, 'amino': 9, 'origin': 15, 'overprint': 1, 'reservations': 1, 'approach': 20, 'previsit': 1, 'visit': 4, 'experience': 15, 'miracidia': 2, 'fasciola': 1, 'hepatica': 1, 'trichobilharzia': 1, 'ocellata': 1, 'host': 7, 'snails': 1, 'lymnaea': 1, 'truncatula': 2, 'l.': 13, 'stagnalis': 2, 'direction': 6, 'rcd': 1, 'gradients': 2, 'snail': 4, 'water': 5, 'scw': 4, 'turnback': 1, 'swimming': 1, 'glycoconjugates': 1, 'weight': 25, 'kda': 4, 'pronase': 1, 'oxidation': 1, 'cleavage': 11, 'carbohydrates': 2, 'o': 3, 'serine': 2, 'n': 9, 'acetylgalactosamine': 2, 'hosts': 3, 'sodium': 10, 'dodecyl': 1, 'sulfate': 2, 'polyacrylamide': 1, 'gel': 5, 'electrophoresis': 2, 'carbohydrate': 4, 'step': 4, 'purification': 2, 'components': 4, 'ion': 6, 'exchange': 3, 'chromatography': 3, 'black': 1, 'white': 2, 'determinant': 5, 'tumor': 40, 'adenocarcinoma': 7, 'pathologist': 2, 'regard': 5, 'race': 3, 'sex': 9, 'blacks': 5, 'odds': 6, 'ratio': 10, 'or': 2, 'whites': 2, 'w': 3, 'summary': 5, 'body': 23, 'mass': 14, 'access': 3, 'utilization': 3, 'atypia': 1, 'activity': 53, 'ors': 1, 'level': 16, 'subsite': 2, 'blood': 46, 'vessel': 1, 'necrosis': 4, 'fibrosis': 3, 'histology': 3, 'opposite': 1, 'differential': 1, 'exposure': 17, 'intensity': 10, 'carcinogen': 1, 'insult': 1, 'biology': 9, 'alpha': 29, 'glucosidase': 2, 'gaa': 3, 'glycogen': 1, 'storage': 3, 'gsdii': 2, 'sequencing': 3, 'pcr': 11, 'exons': 7, 'splice': 5, 'ivs16': 1, '+2': 1, 'c': 54, 'deletion': 2, 'dysfunction': 11, 'parkinson': 12, 'accident': 6, 'decade': 2, 'purpose': 22, 'function': 30, 'skin': 9, 'ssr': 5, 'r': 8, 'rriv': 2, 'sitting': 1, 'condition': 5, 'disturbance': 1, 'palsy': 5, 'credits': 1, 'semester': 1, 'course': 13, 'department': 6, 'physical': 1, 'pm': 6, 'cooperation': 1, 'johns': 1, 'hopkins': 1, 'undergraduate': 2, 'human': 5, 'faculty': 2, 'inpatient': 3, 'personnel': 1, 'units': 4, 'problems': 17, 'curriculum': 3, 'roles': 3, 'team': 2, 'demonstration': 2, 'biopsychosocial': 2, 'disablement': 1, 'interdisciplinary': 1, 'intervention': 10, 'simulations': 1, 'impairments': 1, 'demonstrations': 1, 'chart': 1, 'reviews': 5, 'readings': 2, 'audio': 1, 'lectures': 1, 'review': 24, 'consultations': 1, 'attendance': 2, 'ward': 2, 'settings': 4, 'neurology': 1, 'neurosurgery': 2, 'oncology': 7, 'psychiatry': 5, 'complexity': 3, 'neoplasms': 5, 'injury': 17, 'infections': 20, 'others': 2, 'process': 19, 'person': 2, 'modalities': 5, 'effectiveness': 28, 'electrotherapy': 1, 'myofascial': 3, 'trigger': 6, 'points': 8, 'trapezius': 4, 'muscle': 19, 'males': 4, 'females': 5, 'side': 13, 'muscles': 8, 'rom': 5, '#': 38, 'ems': 7, 'subgroup': 2, 'exercise': 27, 'citizens': 1, 'dancing': 3, 'density': 19, 'a12': 1, 'mo': 2, 'yr': 3, 'vienna': 1, 'lumbar': 3, 'mineral': 9, 'photon': 1, 'absorptiometry': 2, 'forearm': 1, 'linear': 3, 'qct': 1, 'beginning': 2, 'observation': 4, 'percentage': 7, 'dancers': 3, 'osteoporosis': 4, 'bmd': 4, 'changes': 24, 'basal': 6, 'spinal': 1, 'isoenzyme': 1, 'phosphatase': 3, 'marker': 4, 'prevalence': 20, 'trachomatis': 6, 'potential': 10, 'ligase': 3, 'chain': 10, 'tool': 7, 'practices': 13, 'london': 5, 'smear': 1, 'check': 1, 'october': 4, 'january': 1, 'specimens': 3, 'assay': 13, 'sensitivity': 14, 'specificity': 10, 'immunoassay': 4, 'evaluation': 30, 'advances': 3, 'differentiation': 5, 'discoveries': 2, 'hormone': 21, 'receptor': 32, 'etiology': 5, 'agenesis': 2, 'duct': 4, 'female': 4, 'embryogenesis': 2, 'animal': 8, 'fenfluramines': 8, 'clinicians': 4, 'archival': 1, 'articles': 4, 'medline': 2, 'april': 3, 'fenfluramine': 9, 's': 26, 'neurotoxicity': 6, 'loss': 21, 'terms': 3, 'selection': 7, 'neurons': 5, 'animals': 4, 'extraction': 6, 'expertise': 1, 'neurobiology': 2, 'neuropsychiatry': 1, 'appropriateness': 1, 'inclusion': 1, 'synthesis': 9, 'reductions': 2, 'routes': 1, 'administration': 31, 'doses': 15, 'serotonin': 4, 'relations': 1, 'clearance': 3, 'dexfenfluramine': 2, 'pph': 3, 'moxonidine': 4, 'physiotens': 1, 'solvay': 1, 'agents': 24, 'imidazoline': 2, 'agonists': 4, 'claims': 1, 'clonidine': 1, 'methyldopa': 2, 'number': 19, 'antihypertensives': 1, 'market': 2, 'discussion': 1, 'techniques': 7, 'anxiety': 3, 'planning': 2, 'relation': 9, 'needs': 3, 'closing': 1, 'author': 4, 'prevention': 30, 'phobia': 3, 'merits': 1, 'applicability': 2, 'foxes': 4, 'vulpes': 4, 'echinococcus': 4, 'multilocularis': 3, 'pellets': 1, 'praziquantel': 2, 'km2': 2, 'germany': 5, 'campaigns': 1, 'baits': 1, 'cestode': 1, 'myeloid': 1, 'leukemia': 10, 'cml': 5, 'bcr': 7, 'abl+': 4, 'progenitor': 3, 'cells': 61, 'apoptosis': 12, 'populations': 6, 'absence': 13, 'insulin': 14, 'baf3': 2, 'tnf': 2, 'ceramide': 4, 'counterparts': 2, 'activation': 27, 'p210': 3, 'abl': 3, 'mechanism': 9, 'hallmark': 2, 'ability': 9, 'lobes': 1, 'hippocampus': 1, 'structures': 3, 'memories': 1, 'lobe': 4, 'memory': 5, 'system': 32, 'amount': 7, 'form': 14, 'meaning': 3, 'involvement': 13, 'associations': 3, 'imaging': 10, 'volunteers': 2, 'portions': 2, 'collateral': 1, 'sulcus': 1, 'hippocampal': 1, 'amnesia': 1, 'prevalent': 1, 'learning': 4, 'capacities': 2, 'calcium': 33, 'ca2': 5, 'homeostasis': 2, 'aging': 5, 'neuropathology': 1, 'deficits': 4, 'forms': 15, 'plasticity': 3, 'link': 2, 'dysregulation': 1, 'ca': 2, 'synaptic': 1, 'authors': 12, 'regulation': 7, 'thresholds': 3, 'modification': 5, 'depression': 8, 'strength': 7, 'teoaes': 5, 'ears': 6, 'identification': 11, 'normals': 1, 'sizes': 2, 'laboratory': 3, 'cross': 5, 'waveforms': 2, 'criterion': 1, 'ci': 4, 'teoae': 3, 'htls': 2, 'prl': 5, 'prlr': 3, 'length': 7, 'domains': 4, 'rat': 14, 'nb2': 1, 'aa': 3, 'domain': 5, 'promoter': 7, 'beta': 15, 'casein': 1, 'element': 2, 'luciferase': 1, 'reporter': 2, 'fibroblasts': 2, 'cdnas': 2, 'cdna': 10, 'constructs': 1, 'peptide': 5, 'delta-19': 2, 'box': 2, 'plasma': 25, 'membrane': 11, 'message': 1, 'extent': 5, 'cell': 142, 'surface': 19, 'mutant': 1, 'heterodimerization': 1, 'receptors': 10, 'transcription': 8, 'supplementation': 10, 'vitamin': 26, 'metabolism': 13, 'fractures': 4, 'home': 5, 'iu': 2, 'd3': 9, 'cholecalciferol': 1, 'energy': 8, 'x': 10, 'ray': 3, 'fracture': 1, 'means': 3, 'interviews': 3, 'neck': 15, '+0.50+/-4.80': 1, 'percent': 19, 'spine': 4, '+2.12+/-4.06': 1, '+1.22+/-4.25': 1, 'p=0.04': 1, '+0.06+/-1.83': 1, '-1.09+/-1.71': 1, 'sites': 10, 'p=0.02': 1, 'sterilization': 4, 'waste': 4, 'disposal': 2, 'clinics': 7, 'southern': 2, 'sydney': 2, 'service': 5, 'autoclaves': 1, 'disinfection': 1, 'solutions': 4, 'decontamination': 1, 'areas': 4, 'separation': 3, 'guidelines': 13, 'needles': 3, 'fingers': 1, 'washing': 1, 'facilities': 3, 'supplements': 2, 'misinterpretation': 1, 'limit': 2, 'restrictions': 1, 'intakes': 3, 'allowances': 1, 'rdas': 2, 'vitamins': 3, 'minerals': 2, 'acid': 40, 'selenium': 2, 'chromium': 2, 'people': 6, 'limitation': 1, 'nutrients': 2, 'margin': 1, 'intake': 7, 'niacin': 1, 'trivalent': 1, 'carotene': 2, 'smokers': 1, 'mutator': 1, 'tumorigenesis': 2, 'stability': 6, 'maintenance': 10, 'functions': 5, 'accumulation': 5, 'multistep': 1, 'carcinogenesis': 3, 'mmr': 2, 'hmsh2': 1, 'p53': 11, 'hypermutability': 1, 'instability': 2, 'range': 11, 'colonic': 3, 'tumours': 6, 'msh2-': 1, 'knockout': 1, 'mice': 24, 'msh2': 3, 'ablation': 2, 'msh2-/-p53-/-': 3, 'embryos': 2, 'contrast': 7, 't1': 2, 'msh2-/-': 2, 'littermates': 1, 'microsatellite': 5, 'msi': 2, 'reddy': 1, 'et': 8, 'al': 12, 'radiat': 4, 'res': 5, 'kinetics': 10, 'repair': 22, 'damage': 11, 'log': 3, 'hamster': 1, 'v79': 3, 'predictions': 1, 'assumptions': 1, 'misrepair': 2, 'rmr': 2, 'tobias': 1, 's77': 1, 's95': 1, 'lpl': 3, 's.': 3, 'y': 8, 'ostashevsky': 1, 'models': 15, 'pld': 2, 'rep': 8, 'recovery': 19, 'experiment': 1, 'expectation': 1, 'medium': 19, 'lesions': 15, 'dsb': 9, 'split': 1, 'tau': 4, 'dsbr': 2, 'min': 20, 'cheong': 1, 'field': 7, 'pfge': 2, 'mutat': 1, 'h': 26, 'plating': 1, 'h.': 14, 'agreement': 2, 'radiosensitivity': 3, 'ataxia': 1, 'telangiectasia': 1, 'irs': 1, 'adolescents': 19, 'concerns': 5, 'privacy': 2, 'willingness': 5, 'communication': 1, 'physicians': 6, 'assurances': 4, 'confidentiality': 12, 'schools': 1, 'topics': 3, 'honesty': 1, 'return': 8, 'visits': 1, 'physician': 13, 'scenario': 3, 'questionnaire': 4, 'sexuality': 1, 'substance': 4, '178/383': 1, 'beta=.10': 1, 'p=.02': 1, '259/386': 1, '122/196': 1, '137/190': 1, 'beta=.14': 1, 'p=.001': 1, 'investigation': 17, 'assurance': 1, 'statement': 2, 'limitations': 4, 'foot': 10, 'generation': 8, 'part': 15, 'csf': 14, 'recipients': 1, 'amputation': 1, 'debridement': 1, 'anaesthesia': 4, 'superoxide': 3, 'infusion': 17, 'alteplase': 10, 'plasminogen': 3, 'activator': 3, 'minutes': 5, 'lysis': 1, 'artery': 18, 'thrombi': 1, 'hour': 1, 'reperfusion': 2, 'bolus': 12, 'end': 6, 'cause': 14, 'concern': 3, 'injection': 14, 'regimen': 11, 'phentermine': 8, 'food': 11, 'fda': 3, 'advantages': 2, 'need': 4, 'agent': 15, 'prescriptions': 1, 'united': 8, 'states': 7, 'symptoms': 28, 'murmur': 1, 'numbers': 1, 'initiation': 5, 'echocardiography': 7, 'morphology': 4, 'regurgitation': 3, 'carcinoid': 3, 'ergotamine': 1, 'valve': 6, 'candidates': 2, 'silicone': 6, 'arthroplasty': 6, 'refractory': 9, 'arthrodesis': 9, 'fixation': 1, 'intrameduilary': 1, 'steinmann': 1, 'pins': 2, 'ao': 1, 'compression': 3, 'screw': 1, 'hole': 1, 'third': 4, 'dorsal': 2, 'neutralization': 2, 'plate': 8, 'grafting': 4, 'hallux': 3, 'tolerance': 3, 'satisfaction': 5, 'pain': 30, 'transfer': 5, 'tenderness': 1, 'subluxation': 1, 'metatarsophalangeal': 3, 'joint': 5, 'graft': 4, 'restores': 1, 'weightbearing': 1, 'gait': 1, 'residents': 3, 'harare': 3, 'zimbabwe': 1, 'offspring': 4, 'pressure': 20, 'research': 37, 'unit': 1, 'organisation': 1, 'mothers': 3, 'hg': 9, '-3.2': 2, '-5.8': 1, '-9.8': 1, '-1.7': 1, 'fourth': 1, 'peroxynitrite': 11, 'co2': 17, 'vivo': 10, 'modulates': 1, 'systems': 13, 'reformation': 2, 'carbonate': 2, 'co3': 1, 'concentrations': 13, 'decomposition': 5, 'recycling': 1, 'catalyst': 1, 'insight': 2, 'action': 8, 'amplifies': 1, 'result': 5, 'dissolution': 1, 'deviations': 2, 'kinetic': 2, 'buffers': 1, 'intermediates': 1, 'oxidants': 1, 'availability': 7, 'ropinirole': 7, 'nonergoline': 1, 'd2': 1, 'dopamine': 2, 'agonist': 4, 'hoehn': 1, 'yahr': 1, 'iii': 15, 'dopaminergic': 1, 'selegiline': 1, 'starting': 1, 'tid': 3, 'titration': 2, 'withdrawals': 1, 'oocytes': 6, 'vesicle': 2, 'breakdown': 3, 'gvbd': 2, 'parthenogenesis': 3, 'caffeine': 3, 'eggs': 4, 'tetraploids': 1, 'parthenogenotes': 2, 'parthengenotes': 1, 'bodies': 3, 'a23187': 1, 'meade': 2, 'cytochalasin': 1, 'fluoride': 9, 'hormones': 3, 'dutch': 1, 'belted': 1, 'rabbits': 7, 'rabbit': 4, 'drinking': 2, 'dosing': 2, 'magnitude': 3, 'variables': 3, 'urea': 3, 'creatinine': 1, 'phosphorus': 1, 'albumin': 4, 'bilirubin': 1, 'sgot': 1, 'fluorosis': 1, 'osteomalacia': 1, 'pth': 2, 'metabolites': 3, 'bap': 1, 'trap': 1, 'igf-1': 5, 'vertebra': 1, 'diffraction': 1, 'crystal': 2, 'thickness': 4, 'bones': 3, 'width': 1, 'stress': 15, 'femur': 1, 'turnover': 5, 'opacification': 2, 'eyes': 9, 'chamber': 2, 'lenses': 1, 'pc': 5, 'iols': 1, 'charts': 1, 'cataract': 7, 'iol': 2, 'ways': 4, 'curvilinear': 1, 'capsulorhexis': 1, 'pccc': 3, 'vitrectomy': 6, 'capture': 5, 'capsules': 2, 'i.e': 4, '.': 9, 'optic': 2, 'bag': 1, 'axis': 2, 'ht1a': 2, 'hydroxy-2-': 1, 'di': 2, 'propylamino': 1, '-tetralin': 1, 'oh': 5, 'dpat': 4, 'cortisol': 5, 'rainbow': 1, 'trout': 1, 'oncorhynchus': 1, 'catheter': 12, 'aorta': 1, 'microg': 19, 'ng': 10, 'ml': 14, 'support': 15, 'serotonergic': 1, 'fish': 7, 'mammals': 2, 'evolution': 5, 'prescribing': 6, 'antibiotics': 20, 'throat': 13, 'england': 2, 'approaches': 3, 'sign': 3, 'tonsillitis': 2, 'pharyngitis': 2, 'returns': 1, 'otitis': 3, 'media': 3, 'sinusitis': 1, 'quinsy': 1, 'outcomes': 13, 'self': 4, 'doctors': 5, 'section': 4, 'lidocaine': 3, 'epinephrine': 4, 'f': 9, 'complaint': 1, 'analog': 3, 'scales': 1, 'vas': 6, 'sedation': 3, 'analgesia': 7, 'opioid': 4, 'transesophageal': 4, 'arteries': 2, 'homograft': 2, 'root': 1, 'bypass': 9, 'granulocyte': 3, 'colony': 7, 'count': 4, 'neutropenia': 5, 'myelodysplasia': 1, 'chemotherapy': 91, 'stem': 14, 'leukapheresis': 1, 'marrow': 7, 'transplantation': 17, 'toxicity': 13, 'inflammation': 5, 'sequelae': 2, 'donor': 9, 'ebm': 1, 'decision': 4, 'fields': 1, 'emphasis': 4, 'doctor': 4, 'perspectives': 2, 'practitioners': 3, 'perspective': 6, 'rct': 1, 'justice': 3, 'philosophy': 2, 'art': 1, 'anecdote': 1, 'stories': 1, 'tuberculosis': 11, 'uk': 3, 'immigrants': 1, 'crohn': 6, 'laparotomy': 2, 'distinction': 5, 'estimates': 5, 'retropubic': 2, 'suspensions': 4, 'slings': 3, 'repairs': 1, 'complication': 7, 'materials': 6, 'panel': 8, 'incontinence': 9, 'opinion': 1, 'sling': 1, 'convalescence': 1, 'lady': 1, 'underwent': 2, 'repeat': 6, 'carbomedics': 2, 'prosthesis': 6, 'doppler': 4, 'gradient': 3, 'rest': 5, 'helicobacter': 12, 'pylori': 21, 'pentagastrin': 1, 'secretion': 8, 'gastritis': 5, 'bao': 4, 'mao': 4, 'mmol': 6, 'paternity': 1, 'cohort': 3, 'infertility': 4, 'partner': 7, 'insemination': 12, 'birth': 7, 'sperm': 19, 'concepts': 1, 'tissues': 9, 'organs': 3, 'theories': 3, 'senescence': 3, 'phenomenon': 5, 'sum': 1, 'damages': 1, 'radicals': 2, 'telomerase': 2, 'shortening': 1, 'telomeres': 2, 'protection': 5, 'telomere': 2, 'restoration': 1, 'switch': 7, 'substrates': 3, 'recombinase': 8, 'activities': 7, 'srla': 1, 'integrants': 2, 'hygromycin': 3, 'neomycin': 2, 'ganciclovir': 2, 'deletions': 2, 'recombinations': 3, 'qualitative': 1, 'product': 7, 'array': 1, 'gh': 4, 'switching': 1, 'dc': 4, 'bcl1b1': 1, 'mu': 3, 'gamma': 9, '2b': 1, 'substrate': 7, 'generations': 1, 'fashion': 1, 'recombination': 4, 'divisions': 1, 'integration': 3, 'acquisition': 3, 'ch': 3, 'accessibility': 4, 'segment': 2, 'abuse': 6, 'maternity': 1, 'enzyme': 3, 'histories': 1, 'substances': 3, 'benzodiazepines': 1, 'cannabis': 1, 'amphetamines': 1, 'opiates': 1, 'proportion': 2, 'socio': 1, 'misuse': 2, 'abusers': 1, 'illnesses': 2, 'disadvantage': 1, 'manifestation': 4, 'diversity': 2, 'characteristic': 1, 'language': 11, 'innovation': 1, 'specialization': 1, 'establishment': 2, 'dominance': 3, 'hemisphere': 2, 'asymmetries': 1, 'whole': 1, 'failure': 40, 'amyloidosis': 8, 'referral': 1, 'echocardiograms': 1, 'wall': 10, 'sd': 5, 'indices': 2, 'volume': 11, 'ejection': 1, 'voltage': 2, 'electrocardiograms': 1, 'mv': 1, 'deaths': 3, 'causes': 5, 'preservation': 1, 'fibril': 1, 'myocardium': 2, 'spectrum': 3, 'deposition': 1, 'pai-1': 11, 'polymorphism': 7, 'retinopathy': 10, 'pima': 5, 'indians': 5, 'genotype': 11, 'polymerase': 4, 'allele': 5, 'primers': 4, 'au': 1, 'rs': 1, '-0.18': 1, 'bmi': 2, 'glucose': 5, 'postload': 1, 'hba1c': 1, '4g/4': 3, 'df': 1, 'hemoglobin': 2, 'creatine': 1, 'ratios': 2, 'pai-1genotype': 1, 'lavage': 6, 'dpl': 6, 'wounds': 7, 'trauma': 5, 'celiotomy': 7, 'gunshot': 6, 'abdomen': 6, 'exploration': 3, 'centers': 6, 'interventions': 7, 'predication': 1, 'emergency': 14, 'operating': 1, 'room': 9, 'injuries': 8, 'phi': 2, 'aspiration': 5, 'perforations': 1, 'judgment': 3, 'blastocystis': 2, 'hominis': 9, 'parasitation': 2, 'pathogen': 2, 'suspicion': 1, 'parasitosis': 1, 'diarrhoea': 2, 'enteropathogens': 2, 'pathogens': 5, 'predominance': 2, 'carriers': 3, 'manifestations': 2, 'ameboid': 1, 'stools': 1, 'parasite': 2, 'liver': 15, 'glutamine': 7, 'synthetase': 10, 'deficiency': 8, 'hyperammonemia': 5, 'lung': 118, 'cycle': 7, 'enzymes': 7, 'blot': 3, 'assays': 3, 'carbamoyl': 1, 'phosphate': 3, 'carbamoyltransferase': 1, 'causal': 1, 'catch': 1, 'head': 16, 'circumference': 1, 'gain': 3, 'utero': 1, 'sga': 2, 'diet': 6, 'issue': 5, 'nurses': 19, 'fat': 12, 'diets': 3, 'examinations': 3, 'salespersons': 1, 'benefits': 5, 'questions': 3, 'lives': 1, 'lifestyle': 7, 'future': 9, 'conference': 13, 'man': 9, 'street': 1, 'video': 5, 'camera': 1, 'themes': 2, 'attitude': 1, 'lifestyles': 1, 'plans': 1, 'focus': 2, 'habits': 1, 'majority': 4, 'cytochrome': 2, 'p450': 2, 'glutathione': 4, 'transferase': 3, 'm1': 2, 'gstm1': 5, 'detoxification': 4, 'carcinogens': 1, 'tobacco': 6, 'smoke': 3, 'general': 2, 'boston': 1, 'ma': 1, 'usa': 11, 'controls': 13, 'mspi': 5, 'interaction': 8, 'cigarette': 2, 'gender': 1, 'pack': 4, 'smoking': 6, 'traits': 1, 'genotypes': 1, 'compromise': 1, 'multicenter': 4, 'registry': 3, 'embolism': 8, 'scintigraphic': 1, 'catheterization': 1, 'shock': 14, 'hours': 8, 'heparin': 11, 'p=.016': 1, 'episodes': 3, 'thrombolysis': 4, 'chest': 5, 'ct': 5, 'sigmoidoscopy': 1, 'polyps': 4, 'mesothelioma': 5, 'lamina': 1, 'propia': 1, 'difficulty': 2, 'immunohistochemistry': 2, 'electron': 7, 'microscopy': 3, 'pitfalls': 2, 'mr': 3, 'microelectrode': 2, 'pallidotomy': 2, 'border': 1, 'globus': 1, 'pallidus': 1, 'internus': 1, 'gpi': 2, 'outflow': 1, 'pathways': 6, 'sequential': 1, 'middle': 1, 'zone': 2, 'coagulation': 3, 'mm3': 3, 'edema': 2, 'infarctions': 3, 'corona': 1, 'radiata': 1, 'broca': 1, 'aphasia': 1, 'subpallidal': 1, 'recording': 2, 'placement': 5, 'seed': 4, 'oil': 8, 'volunteer': 2, 'delta9-': 1, 'tetrahydrocannabinol': 1, 'carboxylic': 1, 'thca': 2, 'ingestion': 4, 'specimen': 1, 'gas': 4, 'cannabinoids': 2, 'consumption': 3, 'discharge': 7, 'oxygenation': 2, 'ecmo': 4, 'abnormalities': 8, 'threshold': 10, 'conduction': 3, 'baep': 3, 'hearing': 12, 'abnormality': 1, 'infancy': 5, 'wave': 9, 'v': 9, 'i': 9, 'recordings': 3, 'exact': 1, 'delay': 6, 'audiometry': 2, 'federated': 2, 'council': 3, 'internal': 4, 'resource': 2, 'guide': 5, 'residency': 3, 'programs': 4, 'internists': 3, 'challenges': 4, 'profession': 3, 'training': 14, 'competencies': 1, 'disciplines': 1, 'program': 10, 'directors': 2, 'committees': 1, 'competency': 1, 'curricula': 1, 'darier': 8, 'localized': 2, 'trunk': 1, 'mosaic': 1, 'uv': 4, 'products': 12, 'cyclobutane': 1, 'pyrimidine': 2, 'dimer': 3, 'cpd': 4, 'escherichia': 3, 'saccharomyes': 1, 'photolyase': 3, 'arabidopsis': 6, 'thaliana': 1, 'drosphila': 1, 'melanogaster': 2, 'atrox': 1, 'xenopus': 2, 'cpds': 3, 'isolation': 6, 'characterization': 8, 'classes': 5, 'mutants': 4, 'uvr3': 1, 'photoreactivation': 1, 'metazoan': 1, 'opportunity': 2, 'consequences': 5, 'photoproducts': 1, 'living': 5, 'diffuse': 2, 'macular': 2, 'erythroderma': 2, 'desquamation': 2, 'tss': 7, 'girl': 3, 'fever': 7, 'multiorgan': 1, 'toxin': 7, 'strain': 6, 'staphylococcus': 4, 'aureus': 5, 'lymph': 7, 'node': 6, 'admission': 5, 'rash': 2, 'teratoma': 4, 'germ': 8, 'eradication': 5, 'normalization': 3, 'retroperitoneum': 1, 'mediastinum': 3, 'fetoprotein': 2, 'gonadotropin': 2, 'thoracic': 14, 'cami': 4, 'chicken': 8, 'principle': 2, 'cam': 2, 'chickens': 1, 'accuracy': 4, 'beam': 6, 'ebct': 2, 'protocols': 5, '3-': 1, 'image': 2, 'slice': 1, 'revascularization': 2, 'postscanning': 2, 'phone': 1, 'calls': 1, 'admissions': 1, 'scanning': 3, 'revascularizations': 3, 'prescanning': 1, 'quantities': 1, 'quartiles': 2, 'relationships': 4, 'predictor': 4, 'behaviors': 1, 'controversy': 2, 'reasons': 3, 'fact': 4, 'lesbians': 1, 'discrimination': 4, 'disapprobation': 1, 'motivation': 1, 'homosexuality': 2, 'homophobia': 1, 'countries': 6, 'protections': 1, 'dangers': 1, 'tefna': 5, 'tese': 5, 'spermatozoon': 1, 'icsi': 6, 'oocyte': 6, 'spermatozoa': 6, 'biopsy': 8, 'cyclin': 7, 'd1': 5, 'subunit': 2, 'kinases': 1, 'g1': 2, 'proto': 2, 'oncogene': 3, 'derangement': 1, 'translocation': 3, 'q13': 1, 'q32': 1, 'rearrangement': 3, 'bcl-1': 3, 'lymphoid': 2, 'neoplasia': 2, 'mantle': 3, 'lymphomas': 9, 'mcl': 2, 'note': 6, 'break': 4, 'material': 3, 'monoclonal': 5, 'overexpression': 2, 'helix': 2, 'loop': 2, 'bhlh': 4, 'novel': 3, 'enhancer': 2, 'split-': 2, 'sharp-1': 1, 'sharp-2': 2, 'subregions': 1, 'cns': 3, 'cortex': 1, 'stimulation': 8, 'aspects': 12, 'neurulation': 1, 'constitution': 1, 'natured': 1, 'modelling': 1, 'face': 5, 'dissociation': 2, 'spheres': 2, 'disparition': 1, 'muzzle': 1, 'haplorhinae': 1, 'primates': 1, 'disposition': 1, 'technique': 13, 'layers': 5, 'photolithography': 2, 'oxygen': 13, 'patterning': 4, 'photoresist': 2, 'bake': 1, 'temperatures': 1, 'contact': 1, 'mask': 1, 'solubilization': 1, 'resist': 2, 'acetone': 1, 'surfaces': 4, 'goat': 2, 'tetramethylrhodamine': 2, 'isothiocyanate': 1, 'stabilization': 1, 'processing': 3, 'immune': 1, 'immunosensing': 1, 'abilities': 1, 'mast': 2, 'immunobiosensors': 1, 'exocytosis': 1, 'mediators': 1, 'work': 4, 'amplification': 5, 'transduction': 5, 'analyte': 7, 'outputs': 1, 'magnitudes': 1, 'antibodies': 10, 'fibres': 5, 'incubation': 1, 'anti': 2, 'igg': 6, 'fitc': 1, 'leprosy': 4, 'typhoid': 1, 'malaria': 2, 'sensor': 3, 'biosensor': 8, 'utility': 3, 'biosensors': 4, 'photodeposition': 1, 'polymer': 1, 'matrices': 1, 'arrays': 1, 'measurement': 12, 'analytes': 1, 'example': 8, 'penicillin': 9, 'ph': 2, 'healey': 1, 'walt': 2, 'o2': 3, 'li': 3, 'penicillium': 3, 'chrysogenum': 3, 'fermentation': 1, 'ligand': 3, 'molecules': 5, 'binding': 10, 'ligands': 2, 'label': 3, 'interference': 1, 'transducer': 1, 'picograms': 1, 'millimetre': 1, 'coverage': 2, 'affinity': 3, 'biotin': 2, 'streptavidin': 1, 'mm2': 1, 'intercalators': 2, 'respect': 3, 'thermodynamics': 1, 'curve': 2, 'exponential': 1, 'intercalator': 1, 'loading': 2, 'amperometric': 2, 'lactate': 15, 'oxidase': 3, 'application': 14, 'behaviour': 3, 'ag': 2, 'agcl': 1, 'film': 2, 'electrode': 1, 'polyurethane': 1, 'covering': 1, 'irradiation': 28, 'kgy': 1, 'na': 2, 'l-1': 1, 'biosen': 3, 'med': 3, 'operation': 4, 'ex': 3, 'first': 1, 'dog': 3, 'hydration': 2, 'leg': 3, 'vein': 9, 'diffusion': 1, 'solution': 10, 'framework': 3, 'exhibits': 1, 'complexities': 1, 'fractal': 4, 'fit': 1, 'nm': 1, 'factor-1': 1, 'protein-1': 2, 'dimension': 4, 'df1': 3, 'df2': 3, 'coefficient': 3, 'k1': 3, 'k2': 4, 'coefficients': 3, 'urinalysis': 7, 'tract': 6, 'uti': 3, 'dipstick': 3, 'cultures': 2, 'utis': 1, 'u.s': 2, 'fluorescence': 3, 'pseudocolor': 1, 'display': 3, 'nurse': 10, 'syncytium': 1, 'drosophila': 5, 'follicles': 3, 'composition': 9, 'osmolarity': 5, 'culture': 9, 'charge': 5, 'fluorescent': 4, 'probe': 3, 'salines': 2, 'imads': 1, 'r-14': 1, 'hemolymph': 1, 'amounts': 1, 'dyes': 5, 'lucifer': 3, 'yellow': 3, 'dextran': 3, 'rhodamine': 1, 'lysine': 2, 'stage-10': 1, 'seconds': 1, 'microinjection': 1, 'bridges': 3, 'migration': 4, 'situ': 6, '1b': 1, 'translation': 1, 'codon': 2, 'breakpoint': 1, 'cluster': 3, 'polyadenylation': 1, 'mitogen': 5, 'mononuclear': 1, 'af-4': 8, 'member': 3, 'laf-4': 3, 'fmr-2': 3, 'proline': 1, 'immunoglobulin': 7, 'histogenesis': 1, 'motifs': 2, 'molecule': 3, 'identity': 3, 'lamp': 1, 'homologue': 1, 'chlamp': 3, 'glycosylphosphatidyl': 1, 'inositol': 2, 'fusion': 6, 'axons': 3, 'interactions': 3, 'neurohistogenesis': 1, 'dnas1l2': 4, 'cosmid': 1, 'dnas1l3': 4, 'p21.1': 1, 'hybridization': 2, 'dnl1l': 1, 'dnas1l1': 2, 'dnase': 5, 'pancreas': 2, 'parotid': 6, 'gland': 4, 'kidney': 8, 'dnas1l': 1, 'actin': 1, 'peptides': 1, 'conservation': 2, 'protease': 15, 'suppression': 11, 'virus': 23, 'replication': 5, 'bdna': 1, 'immunodeficiency': 5, 'hiv-1': 7, 'rna': 2, 'copies': 1, 'gag': 9, 'p7': 7, 'p1': 10, 'start': 2, 'p6': 2, 'appearance': 3, 'mt2': 1, 'wt': 2, 'viruses': 3, 'm46l': 1, 'i54v': 1, 'v82a': 1, 'indinavir': 2, 'emergence': 3, 'resistance': 12, 'inhibitors': 10, 'granulosus': 2, 'lambdagt11': 1, 'protoscolex': 2, 'library': 3, 'residue': 1, 'repeats': 3, 'ef': 1, 'hands': 1, 'dodecamer': 1, 'motif': 1, 'flanking': 3, 'helices': 1, 'pgex': 1, 'vector': 2, 'egcabp1': 1, 'gst': 2, 'roll': 1, 'pseudomonas': 1, 'aeruginosa': 1, 'pool': 1, 'mouse': 11, 'sera': 6, 'corpuscles': 3, 'kinase': 21, 'map': 5, 'raf-1': 5, 'glands': 2, 'isoproterenol': 1, 'nature': 3, 'pa-4': 2, 'estrogen': 2, 'deltaraf-1': 3, 'er': 2, 'messages': 1, 'hmgi': 7, 'target': 1, 'erk': 2, 'pathway': 5, 'induction': 18, 'mek': 2, 'pd': 1, 'er-': 1, 'tetradecanoylphorbol-13': 1, 'notion': 2, 'raf': 1, 'module': 1, 'deafness': 6, 'thyroid': 6, 'goitre': 1, '7q22': 1, 'cloning': 6, 'pds': 3, 'segregating': 1, 'transcript': 1, 'kb': 3, 'pendrin': 2, 'physiology': 4, 'pathogenesis': 3, 'sulphate': 4, 'transport': 9, 'stra10': 2, 'p19': 2, 'murine': 3, 'isoforms': 3, 'splicing': 2, 'sequences': 12, 'pbx': 3, 'meis1': 2, 'homeobox': 3, 'bxh-2': 1, 'corresponds': 1, 'nakamura': 1, 'meis2': 2, 'homeodomain': 1, 'tgif': 1, 'displays': 1, 'patterns': 4, 'limbs': 1, 'viscera': 1, 'bta': 3, 'primer': 1, 'bovine': 2, 'informativity': 1, 'hf': 1, 'breed': 1, 'usefulness': 2, 'rflp': 1, 'expansion': 1, 'variance': 1, 'amova': 1, 'correspondence': 1, 'mtdna': 2, 'phylogeography': 1, 'subspecies': 1, 'delimitation': 1, 'matrilines': 1, 'viverrid': 2, 'rabies': 2, 'mongoose': 4, 'lack': 2, 'lineages': 1, 'bp': 1, 'spots': 1, 'biotype': 1, 'partitioning': 1, 'resolution': 13, 'pollution': 6, 'consideration': 3, 'air': 3, 'kind': 2, 'environment': 5, 'habitat': 1, 'heating': 1, 'tabagisme': 1, 'handywork': 1, 'coatings': 1, 'construction': 1, 'pollutants': 2, 'intoxication': 1, 'irritations': 1, 'problem': 10, 'persons': 8, 'exposition': 2, 'competences': 1, 'dioxins': 13, 'hydrocarbons': 1, 'combustion': 1, 'chlorine': 2, 'industries': 1, 'dioxin': 3, 'acts': 1, 'tetrachlorodibenzo': 2, 'carcinogenicity': 1, 'exposures': 1, 'sensibility': 3, 'periods': 2, 'testis': 1, 'spermatogenesis': 2, 'endometriosis': 3, 'decades': 1, 'parallelism': 2, 'implications': 6, 'incertitude': 1, 'implementation': 4, 'debate': 1, 'impairment': 3, 'semen': 2, 'fall': 3, 'xenoestrogens': 1, 'mellitus': 6, 'sulfamides': 1, 'biguanides': 1, 'glycosidases': 1, 'thiazolidendiones': 1, 'necessity': 1, 'dysipidemias': 1, 'blockade': 7, 'contraindication': 1, 'neuro': 1, 'rationale': 4, 'antagonists': 6, 'dihydropyridines': 1, 'bleedings': 1, 'verapamil': 1, 'diltiazem': 1, 'sumatriptan': 2, 'competition': 1, 'athletes': 6, 'overtraining': 6, 'adaptation': 3, 'supercompensation': 1, 'sports': 2, 'athlete': 5, 'cues': 1, 'rpe': 3, 'awareness': 3, 'article': 10, 'tqr': 5, 'maladaptation': 2, 'output': 5, 'alternations': 1, 'excretion': 2, 'immunoglobulins': 1, 'electrolytes': 3, 'at': 2, 'saliva': 3, 'tsa': 3, 'turn': 2, 'intensities': 1, 'contraction': 1, 'triglycerides': 3, 'tgs': 2, 'source': 7, 'fatty': 10, 'ffas': 4, 'milieu': 1, 'iv': 6, 'hand': 3, 'ffa': 5, 'place': 3, 'utilisation': 3, 'ergometer': 2, 'nonplasma': 2, 'expenditure': 1, 'vice': 1, 'versa': 1, 'carrier': 2, 'mobilisation': 1, 'adipocytes': 1, 'pad': 1, 'catecholamines': 1, 'adrenaline': 1, 'glycohaemoglobin': 2, 'ghb': 7, 'laboratories': 2, 'comparability': 2, 'commutability': 2, 'feasibility': 2, 'inter': 1, 'correction': 8, 'errors': 2, 'instruments': 3, 'haemoglobin': 1, 'precision': 1, 'colour': 1, 'ultrasound': 10, 'cdus': 1, 'machines': 2, 'departments': 7, 'line': 13, 'cent': 6, 'calf': 2, 'visualization': 1, 'thrombus': 1, 'views': 3, 'venography': 2, 'dvt': 2, 'phenomenology': 1, 'tradition': 1, 'leadership': 1, 'organizations': 2, 'scientists': 2, 'universities': 1, 'productivity': 1, 'recognition': 4, 'demotion': 1, 'career': 1, 'anchorage': 1, 'mobility': 2, 'motivations': 1, 'permissiveness': 1, 're': 2, 'comment': 1, 'anomy': 1, 'alienation': 1, 'anomia': 1, 'authoritarianism': 1, 'marriage': 1, 'comments': 4, 'comfort': 1, 'anatidae': 1, 'isolating': 1, 'mating': 1, 'fowl': 1, 'chicks': 4, 'mealworm': 2, 'vision': 1, 'touch': 3, 'shape': 1, 'property': 1, 'conservations': 1, 'contingency': 1, 'amylase': 4, 'streptomyces': 1, 'nitrogen': 5, 'thom': 2, 'lactose': 3, 'additions': 1, 'biosynthesis': 2, 'discipline': 1, 'past': 1, 'science': 5, 'pathology': 2, 'coexistence': 1, 'collections': 2, 'fluid': 4, 'scope': 1, 'sphincterotomy': 1, 'pancreatitis': 5, 'foley': 2, 'tetanus': 2, 'resuscitation': 2, 'insufficiency': 3, 'guanethidine': 1, 'oviposition': 1, 'society': 12, 'polistes': 1, 'conflict': 2, 'stimuli': 2, 'neuroses': 1, 'micoren': 1, 'hypoventilation': 1, 'perception': 3, 'concept': 4, 'school': 2, 'rorschach': 1, 'estimation': 2, 'psychotherapy': 1, 'anesthetic': 2, 'xylocaine': 1, 'obstetrics': 2, 'conglutination': 1, 'labia': 1, 'minora': 1, 'fight': 1, 'newborn': 1, 'hyperthyroid': 1, 'iodine': 1, 'i-131': 1, 'ancona': 1, 'exhaustion': 1, 'gravis': 1, 'cervix': 3, 'cortisone': 1, 'complexing': 1, 'citrate': 2, 'polyphosphates': 1, 'patency': 3, 'apparatus': 1, 'ions': 1, 'myometrium': 2, 'fate': 1, '2d': 5, 'twin': 1, 'hepatitis': 37, 'metaplasia': 1, 'endometrium': 2, 'leukoplakia': 1, 'portion': 2, 'uterus': 3, 'chondrodystrophy': 1, 'toxemia': 1, 'outpatient': 4, 'abandonment': 1, 'fear': 2, 'workers': 2, 'cost': 13, 'cuts': 1, 'vulva': 1, 'histiocytosis': 1, 'lupus': 3, 'erythematosus': 3, 'betamethasone': 1, 'strucutre': 1, 'influenza': 22, 'students': 4, 'quo': 2, 'vadis': 2, 'arch': 1, 'tetralogy': 1, 'fallot': 1, 'questionnaires': 2, 'spectrometry': 1, 'distance': 2, 'mclafferty': 1, 'fragmentation': 1, 'deuterium': 1, 'keto': 1, 'steroids': 8, 'propiolactone': 1, 'homografts': 1, 'operations': 4, 'starvation': 1, 'triglyceride': 2, 'periodicity': 1, 'desmosomes': 1, 'hemidesmosomes': 1, 'layer': 2, 'epidermis': 3, 'sheaths': 1, 'toad': 1, 'cerebellum': 1, 'earthworm': 1, 'lumbricus': 1, 'terrestris': 1, 'glyceride': 1, 'hydrolysis': 1, 'fates': 1, 'aldosterone': 1, 'conjugate': 2, 'sulfobromophthalein': 1, 'bsp': 2, 'resection': 28, 'bowel': 7, 'stones': 5, 'stone': 3, 'calculi': 3, 'miami': 1, 'mycoplasma': 2, 'pplo': 1, 'l1210': 2, 'antimetabolite': 1, 'hematopoietic': 1, 'lymphoma': 15, 'staging': 7, 'larynx': 1, 'american': 14, 'committee': 5, 'classification': 9, 'mustard': 3, 'incorporation': 1, 'rats': 6, 'microscope': 1, 'plant': 1, 'wound': 2, 'possibilities': 1, 'experimentation': 1, 'milk': 3, 'cholesterol': 4, 'monitors': 1, 'pediatrics': 1, 'pediatrician': 1, 'malnutrition': 2, 'kwashiorkor': 1, 'athyrism': 1, 'elastin': 1, 'bony': 1, 'proliferation': 5, 'arches': 1, 'cornea': 1, 'tranquilizing': 1, 'fathers': 4, 'opposition': 1, 'standpoint': 1, 'joy': 2, 'viewpoint': 2, 'ovulation': 2, 'ewe': 1, 'mare': 1, 'gonadotrophin': 2, 'metabolic': 3, 'diethylamide': 2, 'lsd-25': 1, 'fractons': 1, 'soybeans': 1, 'crystalline': 1, 'soybean': 2, 'meal': 1, 'polyunsaturated': 1, 'lipid': 3, 'teratomas': 2, 'engorgement': 1, 'postpartum': 3, 'circumvallata': 1, 'progestogen': 1, 'gynecology': 3, 'perforation': 2, 'device': 5, 'deaf': 1, 'mutism': 1, 'somatic': 1, 'alcoholism': 1, 'anesthesia': 7, 'accidents': 3, 'profileplasty': 1, 'contraceptives': 1, 'thrombosis': 6, 'veins': 1, 'choriocarcinoma': 1, 'corpora': 1, 'lutea': 1, 'mules': 1, 'coal': 2, 'tar': 2, 'radiosterilization': 1, 'mercurials': 1, 'infra': 1, 'preparation': 3, 'xix': 1, 'aid': 2, 'analysers': 1, 'kinds': 2, 'atmosphere': 1, 'wind': 1, 'velocity': 2, 'kasumigaseki': 1, 'district': 1, 'tokyo': 2, 'ultramicro': 1, 'cyclohexylamine': 1, 'amines': 1, 'knowledges': 1, 'potency': 3, 'fractions': 1, 'filtration': 1, 'endotoxin': 1, 'pyrogen': 1, 'tranquillizers': 1, 'thiomesterone': 1, 'radioimmunoassay': 1, 'lsd': 1, 'anionic': 1, 'surfactants': 1, 'hygienic': 1, 'sciences': 1, 'standard': 6, 'ginseng': 2, 'standardization': 1, 'suture': 3, 'assistants': 2, 'college': 7, 'rhodesia': 1, 'stenosis': 7, 'hydrogen': 2, 'equilibrium': 4, 'salt': 2, 'acidification': 1, 'physiopathology': 3, 'cardiopathies': 1, 'computers': 2, 'education': 5, 'anesthesiology': 3, 'oligosaccharides': 1, 'acetylneuraminyl-3': 1, 'galactosyl': 1, 'nacetylneuraminyl': 1, 'acetylneuraminyl': 2, 'acetyllactosamine': 1, 'oxytocinase': 1, 'cystine': 1, 'aminopeptidase': 1, 'intolerance': 2, 'colitis': 4, 'hygiene': 1, 'pigs': 1, 'piglets': 1, 'epidemic': 2, 'q': 2, 'meat': 1, 'poultry': 1, 'abattoir': 1, 'bhk': 1, 'clone': 1, 'suspension': 1, 'asbestos': 1, 'contaminant': 1, 'permeability': 1, 'lungs': 2, 'technoogy': 1, 'automation': 2, 'welfare': 2, 'roentgen': 2, 'contamination': 1, 'betatron': 1, 'finland': 2, 'factor-2': 1, 'autoimmune': 2, 'encephalomelitis': 1, 'eae': 1, 'deliveries': 2, 'indications': 1, 'macrosomia': 1, 'usage': 3, 'intraunit': 1, 'consistency': 2, 'courses': 1, 'intrapartum': 1, 'sonography': 2, 'breech': 2, 'block': 6, 'amnioinfusion': 1, 'breathing': 3, 'prematurity': 1, 'amnionitis': 1, 'infant': 6, 'resuscitators': 1, 'flow': 5, 'devices': 4, 'oligohydramnios': 1, 'ultrastructure': 1, 'dubowitz': 1, 'income': 2, 'pacifiers': 1, 'technical': 1, 'working': 6, 'sections': 1, 'epidurals': 1, 'lamaze': 1, 'bradley': 1, 'childbirth': 3, 'institutionalization': 1, 'victoria': 1, 'australia': 1, 'formula': 2, 'pumps': 2, 'feeding': 1, 'force': 1, 'registration': 2, 'robot': 1, 'pedicle': 1, 'parameter': 2, 'cruciate': 1, 'ligament': 1, 'stiffness': 1, 'cartilage': 2, 'loads': 1, 'stresses': 1, 'lifts': 1, 'emissions': 3, 'hemangiomas': 2, 'neodymium': 1, 'yag': 5, 'laser': 11, 'carcinomas': 3, 'genetics': 4, 'piece': 2, 'mind': 2, 'paper': 2, 'genetic': 1, 'counselors': 1, 'scleroderma': 2, 'urgency': 1, 'literacy': 1, 'gonorrhea': 1, 'ties': 2, 'cold': 9, 'endocarditis': 2, 'verruca': 1, 'vulgaris': 2, 'cidofovir': 8, 'multilocus': 2, 'neurogenetics': 1, 'genome': 4, 'professionals': 1, 'revolution': 1, 'effusions': 7, 'principles': 2, 'cdkn2': 1, 'ribosomal': 1, 's6': 1, 'p90rsk': 1, 'cap': 1, 'eif4e': 1, 'phosphorylations': 1, 'reinitiation': 1, 'hyaluronidase': 1, 'cumulus': 1, 'penetration': 1, 'platelet': 8, 'ste20': 1, 'airway': 4, 'amp': 1, 'pdgf': 1, 'inactivation': 4, 'phosphatase-1': 1, 'cytopathies': 1, 'acidosis': 3, 'call': 1, 'melanoma': 14, 'standards': 1, 'manifesto': 7, 'delays': 2, 'wait': 1, 'aids': 16, 'asthma': 33, 'researchers': 4, 'obstacles': 1, 'vi': 2, 'light': 5, 'hn': 1, 'nh': 1, 'pluse': 1, 'scheme': 1, '4d': 1, 'amide': 1, 'protons': 2, 'nitrogens-15': 1, 'nj': 3, 'couplings': 1, '1d': 2, 'heteronuclear': 1, 'quantum': 1, 'excitation': 1, 'experiments': 2, 'hcco2': 1, 'assignment': 4, 'carboxylate': 1, 'solvent': 2, 'singular': 1, 'ix': 2, 'distinctiveness': 1, 'thalidomide': 2, 'comeback': 1, 'risks': 4, 'vii': 2, 'shadows': 1, 'images': 1, 'investigators': 3, 'syndromes': 2, 'roxis': 2, 'pilot': 4, 'ht2a': 1, 'anorexia': 1, 'nervosa': 1, 'iia': 1, 'boundary': 2, 'suicide': 4, 'oregon': 2, 'nerve': 13, 'cerebellopontine': 1, 'expectations': 2, 'vaccines': 10, 'proponent': 1, 'america': 2, 'nuremberg': 1, 'ethics': 4, 'victories': 1, 'commitment': 1, 'opinions': 1, 'plan': 1, 'adolescent': 7, 'preventive': 2, 'services': 4, 'fruit': 1, 'juice': 1, 'intensive': 1, 'regimens': 4, 'gps': 1, 'perceptions': 3, 'tolerability': 3, 'reuptake': 1, 'antidepressants': 2, 'reply': 1, 'postmenopausal': 2, 'shoulder': 4, 'complaints': 3, 'contributors': 1, 'authorship': 4, 'job': 1, 'ileosigmoid': 1, 'knotting': 1, 'epitome': 1, 'myocarditis': 1, 'power': 2, 'nn': 1, 'thrombolytic': 2, 'coupling': 1, 'stratification': 2, 'violence': 2, 'cyclosporiasis': 1, 'raspberries': 1, 'keys': 1, 'channels': 2, 'allosteric': 1, 'operational': 2, 'structural': 2, 'verona': 2, 'italy': 6, 'policies': 1, 'journal': 2, 'internet': 4, 'editors': 1, 'sectional': 1, 'update': 2, 'consent': 3, 'publication': 3, 'public': 1, 'battling': 1, 'hi': 1, 'fronts': 1, 'compensation': 1, 'reform': 2, 'act': 1, 'headway': 1, 'mouth': 5, 'translucency': 2, 'down': 3, 'leukaemia': 3, 'newbury': 1, 'haemoptysis': 1, 'papillomavirus': 3, 'microcephaly': 2, 'lymphadenitis': 1, 'histograms': 1, 'cyberchest': 1, 'toes': 1, 'stay': 2, 'teaching': 1, 'newborns': 2, 'flucticasone': 1, 'propionate': 7, 'meta': 7, 'hyperplasia': 7, 'misconceptions': 1, 'mosaicism': 1, 'click': 1, 'multidrug': 3, 'atp': 1, 'vesicles': 1, 'mrp': 2, 'hl60': 1, 'adr': 1, 'cellular': 1, 'conjugates': 1, 'dental': 1, 'commission': 2, 'accreditation': 1, 'healthcare': 3, 'requirements': 3, 'fiction': 2, 'tea': 1, 'baker': 1, 'seizure': 1, 'abc': 2, 'law': 3, 'africa': 5, 'lacerations': 2, 'industry': 4, 'lansoprazole': 1, 'ultrasonographers': 1, 'silicon': 2, 'phthalocyanines': 1, 'plasmodium': 1, 'falciparum': 1, 'dark': 1, 'dobutamine': 2, 'liquid': 1, 'copenhagen': 2, 'dermatobia': 1, 'myiasis': 1, 'measles': 2, 'vaccination': 10, 'amyloidoses': 1, 'specialists': 1, 'pillars': 1, 'disability': 5, 'geriatrics': 1, 'radiology': 3, 'funding': 1, 'priorities': 1, 'keratectomy': 1, 'erosions': 1, 'wegener': 2, 'granulomatosis': 2, 'adolescence': 1, 'parenthood': 1, 'methadone': 2, 'rotavirus': 1, 'dioxide': 2, 'mutilation': 1, 'obsession': 1, 'lens': 2, 'regulator': 1, 'hypothalamic': 1, 'appliance': 1, 'malocclusions': 1, 'cereal': 1, 'fibre': 4, 'march': 6, 'drop': 1, 'paradigms': 1, 'rise': 2, 'tayside': 1, 'scotland': 1, 'darts': 2, 'memo': 1, 'collaboration': 1, 'vesico': 2, 'fistula': 4, 'vacuum': 1, 'endophthalmitis': 1, 'plug': 2, 'hernia': 4, 'herpesvirus': 2, 'sarcoid': 1, 'schizophrenia': 5, 'academy': 4, 'toddlers': 2, 'danaparoid': 1, 'exudates': 1, 'paint': 1, 'wellington': 1, 'democracy': 1, 'statins': 4, 'adequacy': 2, 'smac': 1, 'economists': 1, 'handle': 1, 'neuroanatomy': 1, 'retrieval': 3, 'synergism': 3, 'icebox': 1, 'refrigerator': 1, 'reattendance': 3, 'coronary': 1, 'koch': 1, 'urinary': 2, 'clinical': 8, 'corpus': 2, 'falls': 1, 'heights': 1, 'prophylaxis': 5, 'nucleotide': 2, 'diphospho': 1, 'sugar': 1, 'glycosyltransferases': 1, 'parts': 2, 'overdrugging': 1, 'holder': 1, 'barrier': 1, 'rhdnase': 1, 'rheology': 1, 'sputum': 1, 'options': 2, 'resort': 1, 'eating': 1, 'euthanasia': 2, 'cytology': 3, 'closure': 1, 'finance': 1, 'initiative': 1, 'nhs': 1, 'bite': 3, 'molars': 1, 'dogs': 3, 'breath': 1, 'diffusing': 1, 'no': 2, 'co': 2, 'c18o2': 1, 'autopsy': 1, 'pathologists': 1, 'pulmonale': 1, 'realpolitik': 1, 'arthritis': 10, 'phones': 1, 'denmark': 3, 'heparins': 2, 'interstitial': 1, 'emphysema': 3, 'settlement': 1, 'actions': 1, 'transgenic': 1, 'legacy': 1, 'marshall': 1, 'islands': 1, 'road': 1, 'cancerogenesis': 1, 'ephedrine': 1, 'rocuronium': 1, 'prophylactic': 2, 'rescue': 2, 'surfactant': 2, 'net': 1, 'graduates': 1, 'dublin': 2, 'hydrometrocolpos': 1, 'anomaly': 1, 'primary': 3, 'abscesses': 2, 'methicillin': 3, 'mrsa': 1, 'kingdom': 2, 'collaborators': 1, 'karolinska': 1, 'misconduct': 1, 'gaps': 1, 'ama': 1, 'needle': 8, 'lump': 1, 'look': 3, 'vancomycin': 4, 'programme': 2, 'midwives': 1, 'allergy': 1, 'sulphation': 1, 'nasal': 3, 'mucins': 1, 'agenda': 1, 'freeze': 1, 'allograft': 2, 'instrumentation': 1, 'scoliosis': 1, 'harm': 1, 'cavity': 1, 'peroxide': 1, 'news': 1, 'rhd': 1, 'sensitisation': 1, 'haart': 4, 'psoas': 1, 'abscess': 5, 'ilych': 1, 'hospice': 1, 'auditory': 1, 'instrument': 2, 'shopper': 1, 'gastrointestinal': 2, 'prison': 1, 'apocalypse': 1, 'reflex': 1, 'dystrophy': 2, 'acute': 5, 'listeria': 2, 'monocytogenes': 2, 'meningitis': 12, 'pharmaceutical': 2, 'ldl': 4, 'collagen': 1, 'laminin': 1, 'fibronectin': 1, 'ddp': 1, 'de2f': 1, 'e2f': 1, 'dp': 1, 'transition': 1, 'abo': 1, 'secretor': 1, 'organ': 3, 'transplants': 1, 'paraproteinaemia': 1, 'netherlands': 2, 'comprehensive': 2, 'west': 1, 'leiden': 1, 'bank': 1, 'fulminant': 1, 'superinfection': 1, 'overactive': 1, 'basic': 2, 'consensus': 4, 'proceedings': 15, 'erbium': 1, 'resurfacing': 1, 'pearls': 1, 'sweating': 1, 'sympathectomy': 1, 'aacc': 1, 'lectureship': 1, 'award': 3, 'address': 1, 'pituitary': 1, 'bizarro': 1, 'osteodistraction': 1, 'sales': 1, 'distress': 2, 'metals': 1, 'calmodulin': 2, 'fibromyalgia': 2, 'vive': 1, 'malade': 1, 'tomographic': 1, 'orientation': 3, 'testicular': 1, 'azoospermia': 3, 'facemasks': 1, 'sharps': 1, 'friend': 1, 'foe': 1, 'owa': 1, 'ondansetron': 1, 'panacea': 1, 'masking': 1, 'blinding': 1, 'peer': 1, 'cervico': 2, 'morphogenesis': 3, 'outlook': 1, 'trk-530': 1, 'exfoliation': 1, 'teeth': 1, 'mercury': 1, 'poisoning': 5, 'spores': 1, 'henneguya': 1, 'salminicola': 1, 'myxozoa': 1, 'stool': 1, 'confusion': 1, 'limited': 1, 'ventilation': 7, 'paraphilia': 1, 'analogue': 2, 'nephropathy': 2, 'proficiency': 1, 'interferon': 23, 'insurance': 1, 'awards': 2, 'biases': 1, 'waiting': 1, 'communications': 1, 'angiography': 4, 'fascioloidiasis': 1, 'game': 1, 'elk': 1, 'montana': 1, 'tourette': 1, 'muddle': 1, 'thromboxane': 1, 'a2': 3, 'prostaglandin': 2, 'h2': 1, 'programmes': 1, 'hemoglobins': 2, 'immunobiosensor': 1, 'kala': 1, 'azar': 1, 'multianalyte': 1, 'bundles': 1, 'haemophilia': 2, 'haemorrhage': 2, 'spin': 1, 'labels': 1, 'multifrequency': 1, 'computer': 2, 'bioinformatics': 1, \"gcb'96\": 1, 'plasmon': 1, 'topoisomerase': 2, 'mg2': 1, 'list': 6, 'taxa': 2, 'names': 3, 'bacteriology': 2, 'macromolecules': 1, 'hazards': 1, 'marathon': 1, 'version': 1, 'overt': 1, 'aggression': 1, 'behaviours': 1, 'desire': 1, 'urogynaecology': 2, 'rcog': 1, 'baus': 1, 'meeting': 8, 'naming': 1, 'ivads': 1, 'hemophilia': 4, 'hypocomplementemia': 1, 'boy': 1, 'trends': 3, 'clients': 1, 'portland': 1, 'french': 2, 'guiana': 1, 'epidemiology': 3, 'malignancies': 4, 'dyspepsia': 1, 'gntz': 1, 'trny': 1, 'bacillus': 2, 'subtilis': 1, 'immunogenicity': 5, 'workshop': 4, 'february': 3, 'autism': 1, 'progress': 1, 'peroxidase': 1, 'disparate': 1, 'erysiphe': 1, 'graminis': 1, 'f.sp': 1, 'hordei': 1, 'glyceraldehyde-3': 1, 'dehydrogenase': 2, 'washington': 2, 'symposium': 5, 'pharmacology': 1, 'thermoregulation': 1, 'memphis': 1, 'tennessee': 1, 'breckenridge': 1, 'colorado': 1, 'endocrinology': 1, 'athens': 1, 'greece': 2, 'neuroprotective': 1, 'experimental': 2, 'lake': 1, 'como': 1, 'intron': 6, 'localization': 3, 'mar': 1, 'plata': 1, 'argentina': 1, '6q21': 1, 'cynictis': 2, 'penicillata': 2, 'ettin': 1, 'meristem': 1, 'ancient': 1, 'amber': 1, 'fossil': 1, 'bees': 1, 'histone': 1, 'h1': 1, 'insect': 1, 'chironomus': 1, 'thummi': 1, 'intranuclear': 1, 'orf31': 1, 'populus': 2, 'deltoides': 1, 'pax-2': 1, 'japan': 7, 'november': 4, 'abstracts': 7, '3rd': 3, 'congress': 4, 'transfusion': 1, 'marseille': 1, 'france': 3, 'east': 1, 'european': 4, 'regional': 1, 'interasma': 1, 'budapest': 1, 'hungary': 1, 'antisense': 3, 'successes': 1, 'sarasota': 1, 'florida': 1, 'pharmaco': 1, 'toxicologie': 2, 'cellulaire': 1, 'franãƒâ§aise': 1, 'gãƒ': 1, 'nãƒ': 1, 'tique': 1, 'italian': 1, 'glaucoma': 3, 'rapallo': 1, 'scientific': 1, 'rheumatology': 1, 'dictionary': 1, 'usan': 1, 'nagrestipen': 1, 'session': 1, 'lower': 1, 'saxony': 1, 'sachsen': 1, 'anhalt': 1, 'kiel': 2, 'cologne': 1, 'neuroimmunomodulation': 2, 'molecular': 2, 'integrative': 2, 'isnim': 1, 'dysmorphology': 1, 'strasbourg': 1, 'eu': 2, 'oral': 1, 'presentations': 2, 'nih': 1, 'therapeutic': 1, 'oligonucleotides': 1, 'signaling': 1, 'phagocytes': 1, 'catania': 1, 'may': 2, 'preovulatory': 1, 'luteinizing': 3, 'surge': 1, 'timing': 1, 'prerequisites': 1, 'ordinances': 1, 'brandon': 1, 'hill': 1, 'nursing': 7, 'books': 1, 'journals': 1, 'retraction': 1, 'tsg101': 1, 'band': 1, 'p15': 1, 'omission': 1, 'fertility': 1, 'diminution': 1, 'migraine': 3, 'overview': 2, 'ankle': 2, 'tension': 3, 'alternative': 8, 'mononucleosis': 2, 'infectiosa': 1, 'epstein': 1, 'barr': 1, 'sarcoma': 6, 'atrophy': 2, 'prions': 2, 'nosology': 1, 'creutzfeldt': 2, 'jakob': 2, 'hemosiderosis': 2, 'cytokines': 1, 'neuropathies': 2, 'dementia': 4, 'corticobasal': 1, 'degeneration': 4, 'frontal': 1, 'angiostrongylus': 1, 'cantonensis': 1, 'trientine': 1, 'metastases': 25, 'crises': 1, 'pneumosinus': 1, 'vascular': 1, 'electrophysiology': 1, 'zinc': 5, 'gluconate': 1, 'lozenges': 5, 'metronidazole': 1, 'flagyl': 1, 'prediction': 1, 'controversies': 1, 'retrotransposon': 1, 'bombyx': 1, 'mori': 1, 'l1bm': 1, 'leukemias': 2, 'cats': 1, 'concentrate': 2, 'haemodiafiltration': 2, 'meningococcus': 1, 'purpura': 4, 'fulminans': 1, 'interleukin-6': 2, 'lyme': 1, 'spirochaete': 1, 'borrelia': 1, 'defibrillators': 1, 'insights': 1, 'icd': 1, 'proposals': 1, 'catholic': 1, 'church': 1, 'commentary': 4, 'le': 1, 'mystãƒâ¨re': 1, 'de': 2, 'montrãƒ': 1, 'oedipus': 1, 'christ': 1, 'inquiry': 1, 'innocence': 2, 'sacrifice': 2, 'spirituality': 1, 'equine': 1, 'dinucleotide': 1, 'lex049': 1, 'lex063': 1, 'systematics': 1, 'tanagers': 1, 'thraupinae': 1, 'biogeography': 1, 'birds': 1, 'cytokeratin': 1, 'dnas': 1, 'ginbuna': 1, 'carassius': 1, 'langsdorfi': 1, 'clones': 1, 'size': 5, 'libraries': 1, 'peribulbar': 1, 'lim': 1, 'transcripts': 1, 'mole': 3, 'methotrexate': 5, 'pellagra': 1, 'myth': 1, 'folklore': 1, 'rap-1': 1, 'babesia': 1, 'bigemina': 1, 'museum': 1, 'epidermoid': 1, 'journey': 1, 'declines': 1, 'assault': 1, 'assaulted': 1, 'staff': 1, 'patch': 4, 'betaine': 1, 'hairdresser': 1, 'dyslipidemia': 1, 'diverticulitis': 1, 'yeast': 1, 'channel': 3, 'spheroplasts': 1, 'sciatica': 2, 'british': 1, 'columbia': 1, 'leukocyte': 3, 'lebanese': 1, 'greek': 1, 'orthodox': 1, 'hyperstimulation': 1, 'attitudes': 5, 'medication': 7, 'f344': 1, 'pup': 1, 'ultrasonography': 3, 'nephrologists': 1, 'cisapride': 3, 'constipation': 3, 'guns': 1, 'firearm': 2, 'characters': 1, 'soap': 1, 'operas': 1, 'television': 1, 'government': 1, 'duty': 2, 'conflicts': 2, 'victim': 1, 'beractant': 1, 'reinvention': 1, 'ypll': 1, 'foundation': 1, 'healthy': 1, 'hypothyroidism': 2, 'healing': 2, 'flap': 1, 'sapho': 1, 'beverage': 1, 'removal': 8, 'goiter': 1, 'reliability': 1, 'ams700': 1, 'molluscum': 1, 'contagiosum': 1, 'peg': 1, 'reinsertion': 1, 'gastroscope': 1, 'clear': 2, 'papulosis': 1, 'oxymoron': 1, 'neovascularization': 2, 'nem': 1, 'skittles': 1, 'tetrandrine': 1, 'terlipressin': 1, 'infusions': 2, 'cpr': 3, 'rhythms': 1, 'enthesopathy': 1, 'cirrhosis': 4, 'b27': 1, 'hyponatremia': 2, 'venlafaxine': 3, 'stimulator': 1, 'phrenic': 1, 'hiccups': 1, 'micronutrients': 1, 'prospects': 3, 'danish': 1, 'agency': 1, 'aarhus': 1, 'inequality': 1, 'naloxone': 1, 'withdrawal': 1, 'morphine': 3, 'flutter': 1, 'munchausen': 1, 'lessons': 1, 'policy': 3, 'intravascular': 1, 'inferences': 1, 'symphysiotomy': 1, 'cardiac': 1, 'database': 1, 'us': 4, 'puncture': 2, 'jugular': 1, 'considerations': 4, 'mouthwashes': 1, 'melatonin': 2, 'ethanol': 2, 'peroxidation': 1, 'tirofiban': 1, 'inhibition': 5, 'ischemic': 1, 'prism': 2, 'mike': 3, 'grace': 2, 'remifentanil': 2, 'release': 4, 'formalin': 1, 'suction': 1, 'drains': 1, 'dissection': 2, 'offenses': 1, 'satellite': 3, 'hodgkin': 14, 'occupation': 1, 'keystone': 1, 'mastectomy': 2, 'reconstruction': 6, 'ruptures': 1, 'tree': 2, 'hemostasis': 1, 'ulcer': 10, 'henoch': 1, 'schãƒâ¶nlein': 1, 'scim': 1, 'independence': 1, 'cellulose': 1, 'guides': 1, 'xiv': 1, 'color': 2, 'gut': 2, 'rubbers': 1, 'traction': 1, 'dehydration': 2, 'anterior': 1, 'dislocations': 1, 'xenografts': 1, 'cerebral': 1, 'infarct': 3, 'cannulation': 1, 'zealand': 1, 'cot': 1, 'azathioprine': 1, 'prednisolone': 1, 'building': 1, 'stachybotrys': 1, 'chartarum': 1, 'aspergillus': 1, 'versicolor': 1, 'angiogenesis': 2, 'antenatal': 1, 'npc': 1, 'bm1': 1, 'metastatic': 2, 'dysfunctioning': 1, 'flexibility': 2, 'reactivity': 1, 'bacteria': 1, 'vaccine': 32, 'myositis': 1, 'concomitant': 1, 'alveolitis': 1, 'triphenylmethane': 1, 'triisocyanate': 1, 'online': 17, 'presenilin-1': 1, 'mismatch': 2, 'besancon': 1, 'sharing': 1, 'mlh1': 1, 'description': 2, 'acceptor': 2, 'galactosidase': 1, 'fabry': 1, 'placebos': 1, 'counselling': 2, 'offering': 1, 'canada': 1, 'chelation': 2, 'mexiletine': 1, 'dispersion': 1, 'repolarization': 1, 'torsade': 1, 'des': 1, 'pointes': 1, 'lqt2': 1, 'lqt3': 1, 'qt': 2, 'ligation': 1, 'abdominoplasty': 1, 'bouts': 1, 'gouty': 1, 'pulse': 3, 'latero': 1, 'ischemia': 3, 'miniprobe': 1, 'steroid': 6, 'strictures': 2, 'acetyl': 1, 'xylan': 1, 'esterase': 1, 'pumilus': 1, 'lithotripsy': 2, 'abrasions': 1, 'rubber': 1, 'project': 1, 'spain': 1, 'spanish': 1, 'microbiology': 1, 'competence': 1, 'endoscopists': 1, 'lonomia': 1, 'obliqua': 1, 'caterpillar': 1, 'prothrombin': 1, 'replantation': 1, 'tongue': 1, 'households': 1, 'frameshift': 1, 'd203a': 1, 'chloride': 1, 'clcn1': 1, 'myotonia': 1, 'congenita': 1, 'missense': 2, 'ile538val': 1, 'hypochondroplasia': 1, 'iduronate-2': 1, 'sulfatase': 1, 'arg2163': 1, 'viii': 1, 'haemophila': 1, 'phenotypes': 1, 'thai': 1, 'underutilization': 1, 'virchow': 1, 'robin': 1, 'spaces': 1, 'causation': 1, 'inhalation': 5, 'ammonium': 1, 'fuel': 1, 'explosive': 1, 'anfo': 1, 'polycythaemia': 1, 'sisyphus': 1, 'dispute': 1, 'hypoxia': 2, 'isoflurane': 1, 'borderline': 1, 'pleura': 1, 'vitro': 3, 'branching': 1, 'sevoflurane': 1, 'planopilaris': 1, 'electrolyte': 2, 'nutrition': 3, 'profiles': 3, 'whiplash': 2, 'headache': 3, 'fatal': 1, 'bifid': 1, 'waves': 1, 'isoprenaline': 1, 'brugada': 1, 'suprema': 1, 'lex': 1, 'springtime': 1, 'merkel': 1, 'autonomy': 1, 'assistant': 1, 'meyer': 1, 'overton': 1, 'cromoglycate': 1, 'completion': 5, 'cardioprotection': 1, 'preconditioning': 1, 'filter': 1, 'spot': 1, 'igf': 2, 'protein-3': 1, 'iodixanol': 1, 'prevaccination': 1, 'normoxic': 1, 'oxide': 2, 'preference': 1, 'judgements': 1, 'excerpts': 1, 'music': 1, 'rhabdomyolysis': 1, 'monoxide': 4, 'cisplatin': 28, 'vinorelbine': 3, 'sarcoidosis': 3, '3d': 1, 'nodules': 3, 'dh': 1, 'txt': 1, 'gem': 1, 'cddp': 4, 'mrcc': 1, 'il-2': 2, 'syst': 1, 'carboplatin': 14, 'ifosfamide': 7, 'seminoma': 1, 's.c.injection': 1, 'rm-9': 1, 'admil-12': 2, 'b7': 1, 'challenge': 4, 'treatments': 12, 'micrometastases': 2, 'palliation': 6, 'irinotecan': 6, 'cpt-11': 2, 'nsclc': 32, 'paclitaxel': 14, 'pseudoephedrine': 2, 'acetaminophen': 3, 'relief': 7, 'paranasal': 2, 'sinuses': 2, 'amantadine': 1, 'rimantadine': 1, 'zanamivir': 3, 'oseltamivir': 1, 'homes': 1, 'pb2': 1, 'dmrie': 1, 'liposome': 1, 'msds': 1, 'blocks': 2, 'rfa': 1, 'tip': 1, 'electrodes': 1, 'improvements': 3, 'pancreaticoduodenectomy': 1, 'bile': 2, 'corticosteroids': 9, 'hypersensitivity': 1, 'fistulas': 1, 'pneumococcus': 1, 'haemophilus': 3, 'heptavalent': 1, 'pneumonia': 9, 'immunization': 4, 'streptococcus': 2, 'serotypes': 1, 'pyrazinamide': 1, 'isoniazid': 1, 'rifampicin': 1, 'antibiotic': 2, 'enterococcus': 1, 'lactams': 1, 'aminoglycoside': 1, 'gentamicin': 1, 'streptomycin': 1, 'cyclophosphamide': 5, 'obliterans': 2, 'letter': 1, 'gemifloxacin': 1, 'aecb': 1, 'penicillamine': 1, 'mercapto-3': 1, 'methylbutanoic': 1, 'metal': 2, 'chelator': 1, 'wilson': 1, 'rheumatoid': 6, 'thirds': 1, 'rt': 3, 'gemcitabine': 9, 'gc': 1, 'n2': 2, 'neuroendocrine': 8, 'ne': 1, 'her2': 2, 'prognosis': 5, 'mplc': 1, 'chance': 5, 'sclc': 16, 'pci': 3, 'mev': 1, 'accelerator': 1, 'extrathoracic': 1, 'oligometastases': 1, 'docetaxel': 4, 'preclinically': 1, 'chemotherapeutic': 1, 'combinations': 3, 'resections': 7, 'bronchus': 2, 'pneumonectomies': 1, 'stump': 1, 'pneumonectomy': 3, 'institution': 2, 'carina': 1, 'photopheresis': 5, 'rejection': 4, 'bos': 3, 'gains': 1, 'wli': 2, 'esft': 1, 'responders': 1, 'enoxaparin': 3, 'myelopathy': 2, 'tracheal': 2, 'stent': 5, 'stents': 6, 'dyspnea': 1, 'peri-': 1, 'etoposide': 4, 'vp-16': 1, '-ifosfamide': 1, 'vip': 2, 'modality': 4, 'corticosteroid': 1, 'instruction': 1, 'inhalers': 2, 'mediastinoscopy': 2, 'myelotoxicity': 1, 'toxicities': 3, 'degree': 4, 'july': 3, 'mitomycin': 3, 'osteosarcoma': 2, 'extremities': 2, 'rizzoli': 1, 'relapse': 6, 'neoplasm': 2, 'tc': 3, 'ac': 1, 'lcnec': 1, 'lsnec': 1, 'scc': 1, 'adjunct': 2, 'nsclcm': 1, 'stenoses': 5, 'grades': 1, 'dysphagia': 1, 'esophagus': 4, 'tracheobronchus': 3, 'enlargement': 1, 'erbb-2': 1, 'indicator': 3, 'yoei': 1, 'nyt': 3, 'ren': 1, 'shen': 1, 'yang': 1, 'rong': 1, 'tang': 1, 'kotaro': 1, 'co.': 1, 'ltd': 1, 'osaka': 1, 'medicines': 1, 'himawari': 1, 'expectancy': 1, 'malignancy': 4, 'costs': 1, 'thoracotomy': 4, 'statements': 1, 'charges': 1, 'metastasis': 9, 'object': 2, 'knife': 4, 'radiosurgery': 5, 'gks': 5, 'wbrt': 5, 'nonsmall': 2, 'exception': 1, 'vats': 4, 'metastasectomy': 3, 'chances': 2, 'taxanes': 1, 'antitumour': 1, 'alpha2b': 3, 'fotemustine': 1, 'neoadjuvant': 1, 'oxaliplatin': 9, 'fluorouracil': 11, 'folinic': 2, 'intent': 2, 'option': 3, 'immunoreactivity': 1, 'immunotherapy': 6, 'consists': 1, 'platinum': 7, 'bloc': 2, 'male': 2, 'efforts': 1, 'reviewer': 2, 'remission': 6, 'extracts': 4, 'nf': 3, 'kappab': 3, 'platinol': 1, 'chemo': 1, 'm2': 11, 'doxorubicin': 4, 'cde': 1, 'auc': 2, 'therapies': 5, 'antitumor': 2, 'bronchoscopy': 2, 'adjuncts': 1, 'multimodality': 1, 'lobectomy': 3, 'lymphadenectomy': 1, 'gd3': 1, 'ganglioside': 1, 'bec-2': 1, 'marimastat': 1, 'bms-275291': 1, 'fu': 3, 'isovorin': 1, 'f.i': 1, 'fatigue': 1, 'content': 1, 'intensification': 3, 'yields': 1, 'tf': 2, 'scintigraphy': 1, 'pgp': 2, 'mrp1': 2, 'ld': 1, 'chemoirradiation': 1, 'pretreatment': 3, 'amifostine': 9, 'discontinuation': 2, 'pneumonitis': 1, 'oesophagitis': 1, 'cytoprotectant': 2, 'xerostomia': 2, 'applications': 4, 'endoscopic': 3, 'assistance': 1, 'epilepticus': 1, 'phenytoin': 1, 'suffering': 1, 'baclofen': 1, 'atropine': 2, 'overdose': 2, 'hypotension': 2, 'hemofiltration': 2, 'balloon': 2, 'pump': 1, 'arterio': 1, 'neostigmine': 3, 'kg-1': 4, 'edrophonium': 2, 'vecuronium': 1, 'atracurium': 2, 'antagonism': 1, 'neuromuscular': 1, 'tetanic': 1, 'hz': 2, 'train': 1, 'twitch': 1, 'adductor': 1, 'pollicis': 1, 'hydroxyvitamin': 2, 'dihydroxyvitamin': 3, 'psoriasis': 8, 'micrograms': 1, 'microgram': 2, 'responsiveness': 3, 'indomethacin': 3, 'uvr': 1, 'erythema': 2, 'wavelengths': 2, 'dialysis': 6, 'dislocation': 4, 'sa': 2, 'monocytes': 1, 'ra': 4, 'monocyte': 2, 'zymosan': 3, 'itz': 1, 'stz': 1, 'mtx': 2, 'purine': 1, 'analogues': 1, 'antilymphocyte': 1, 'globulin': 3, 'alg': 1, 'ureteroscopy': 2, 'reflux': 6, 'polytetrafluoroethylene': 3, 'polytef': 1, 'paste': 2, 'orchiectomy': 1, 'oestrogen': 1, 'flaps': 2, 'burns': 1, 'intestine': 2, 'dome': 1, 'drainage': 8, 'intervening': 1, 'nsaid': 2, 'proteinuria': 2, 'rifn': 4, 'dysgerminoma': 2, 'ovary': 1, 'bleomycin': 4, 'texas': 2, 'm.d': 1, 'mycosis': 3, 'bam': 3, 'splenomegaly': 2, 'splenectomy': 4, 'fungoides': 2, 'ommaya': 1, 'thoracentesis': 1, 'tube': 2, 'instillation': 1, 'irritants': 1, 'pleurodesis': 1, 'shunting': 1, 'ventricle': 1, 'cannulae': 1, 'rhbp': 1, 'rv': 2, 'pabc': 1, 'procainamide': 1, 'tachycardia': 4, 'angioplasty': 16, 'postinfarction': 1, 'occlusion': 7, 'ptca': 1, 'cefdinir': 1, 'loracarbef': 1, 'exacerbations': 1, 'bronchitis': 3, 'pneumococci': 1, 'organisms': 1, 'cephalosporin': 1, 'cefotaxime': 1, 'ceftriaxone': 4, 'ampicillin': 2, 'dexamethasone': 2, 'severity': 5, 'leukoencephalopathy': 1, 'fludarabine': 4, 'levofloxacin': 4, 'amoxicillin': 9, 'clavulanate': 4, 'hospitalization': 1, 'acetylcysteine': 2, 'nac': 1, 'ambroxol': 1, 'amb': 1, 'gastrectomy': 6, 'stomach': 3, 'croup': 4, 'i.m': 3, 'octreotide': 3, 'acetate': 2, 'lar': 3, 'nets': 2, 'lanreotide': 3, 'pr': 2, 'gep': 1, 'tj-135': 5, 'concanavalin': 2, 'cytokine': 3, 'colds': 6, 'helper': 1, 'inchinko': 1, 'to': 2, 'cavernomas': 1, 'hepatectomy': 1, 'cholangiocarcinoma': 5, 'configuration': 2, 'bronchiectasis': 4, 'mossad': 1, 'smith': 1, 'embolization': 3, 'tae': 1, 'cholecystectomy': 8, 'dyskinesia': 5, 'symptom': 2, 'suggestive': 1, 'aspergilloma': 2, 'trail': 3, 'lymphoblastic': 3, 'greifswald': 1, 'microcoil': 1, 'acupuncture': 3, 'lamivudine': 4, 'jaundice': 1, 'hav': 2, 'immunoadhesin': 1, 'cysteine': 1, 'receptor-1': 1, 'vinblastine': 1, 'dacarbazine': 1, 'hd': 1, 'actg': 1, 'glucocorticoids': 2, 'ecp': 1, 'ibdp': 1, 'twinrix': 2, 'smithkline': 1, 'beecham': 1, 'biologicals': 1, 'schedule': 1, 'immunisation': 1, 'injections': 5, 'refugees': 2, 'lice': 3, 'pediculicide': 1, 'permethrin': 4, 'salmonella': 1, 'leak': 1, 'fluids': 1, 'hypothermia': 2, 'ehlers': 1, 'danlos': 1, 'guglielmi': 1, 'coils': 1, 'mdr': 1, 'tb': 2, 'tp': 2, 'adherences': 1, 'hemobilia': 1, 'minocycline': 1, 'hydrochloride': 2, 'cyst': 2, 'efferent': 1, 'th1': 1, 'quinolones': 1, 'strains': 2, 'swine': 3, 'gingyo': 2, 'san': 2, 'omeprazole': 2, 'clarithromycin': 3, 'bacterium': 1, 'gallstones': 1, 'cholecystostomy': 1, 'gallstone': 1, 'salbutamol': 3, 'olympic': 1, 'ioc': 1, 'advisable': 1, 'antimicrobials': 1, 'diarrhea': 1, 'existence': 1, 'roux': 4, 'en': 4, 'billroth': 1, 'subtotal': 1, 'disturbances': 1, 'remnant': 1, 'gastrojejunostomy': 2, 'gastric': 2, 'reminder': 2, 'immunizations': 1, 'office': 2, 'fluticasone': 6, 'zafirlukast': 3, 'acetonide': 2, 'assessments': 1, 'show': 1, 'triamcinolone': 1, 'cd4': 1, 'progression': 4, 'viremia': 4, 'ifn': 4, 'ribavirin': 8, 'decline': 5, 'cbd': 2, 'ia': 1, 'mucosal': 2, 'ahf': 2, 'regeneration': 1, 'advantage': 3, 'basket': 1, 'pl': 2, 'granule': 1, 'granules': 1, 'intervals': 1, 'pharmacokinetics': 3, 'fp': 2, 'diskus': 2, 'diskhaler': 2, 'powder': 1, 'dpis': 2, 'aom': 3, 'cefuroxime': 1, 'axetil': 1, 'trimethoprim': 1, 'sulfamethoxazole': 2, 'tmp': 1, 'smx': 1, 'adherence': 1, 'tympanocentesis': 1, 'raom': 2, 'advisory': 2, 'flu': 3, 'season': 1, 'dverse': 1, 'appraisal': 1, 'alfa': 4, 'mycobacterium': 1, 'kwazulu': 1, 'south': 1, 'tacrolimus': 6, '.study': 1, 'cytomegalovirus': 1, 'cmv': 4, 'blindness': 1, 'rsv': 2, 'bronchiolitis': 2, 'wheezing': 1, 'tendency': 1, 'amitriptyline': 1, 'night': 2, 'surveys': 3, 'interleukin-2': 2, 'sil-2r': 1, 'hypo': 1, 'veno': 1, 'meningococcaemia': 1, 'defecation': 1, 'run': 1, 'clearing': 2, 'mcv': 8, 'retinitis': 2, 'cream': 1, 'vehicle': 1, 'dermovan': 1, 'attempt': 1, 'deoxycytidine': 1, 'monophosphate': 1, 'fibrillation': 6, 'pulseless': 1, 'circulation': 1, 'ed': 1, 'angiotensin': 1, 'microalbuminuria': 2, 'macronutrient': 1, 'restenosis': 2, 'ultraviolet': 2, 'uvb': 1, 'photochemotherapy': 1, 'puva': 1, 'retinoids': 1, 'ret': 1, 'cyclosporin': 1, 'cya': 1, 'pn': 2, 'cations': 2, 'urethroplastym': 1, 'hypospadias': 6, 'urethroplasty': 2, 'boys': 1, 'shaft': 1, 'penoscrotal': 2, 'neourethra': 1, 'llc': 5, 'il2': 3, 's.c': 3, 'olanzapine': 1, 'antipsychotic': 1, '2-': 1, 'lead': 1, 'inpatients': 1, 'dsm': 1, 'ara': 2, 'ctp': 1, 'blasts': 1, 'anticoagulants': 2, 'selectin': 1, 'cd62': 1, 'gp': 2, 'iib': 2, 'iiia': 1, 'pac-1': 1, 'aggregation': 1, 'ufh': 1, 'pta': 2, 'treat': 1, 'hemolytic': 1, 'anemia': 4, 'crisis': 1, 'hbv': 4, 'ivb': 2, 'investigations': 2, 'cynara': 1, 'hepato': 1, 'sensation': 1, 'fullness': 1, 'appetite': 2, 'nausea': 1, 'tubers': 1, 'devil': 2, 'claw': 2, 'harpagophytum': 2, 'procumbens': 1, 'rheumatism': 1, 'uses': 3, 'hdivig': 4, 'dermatomyositis': 2, 'epidermolysis': 1, 'bullosa': 1, 'acquisita': 1, 'pemphigus': 1, 'herniation': 1, 'pulmonectomy': 1, 'apd': 1, 'capd': 1, 'la': 5, 'serna': 1, 'lancet': 1, 'pericarditis': 1, 'colchicine': 2, 'nhl': 4, 'transplant': 1, 'mabs': 3, 'uft': 6, 'phaeochromocytoma': 3, 'purposes': 1, 'macdibbs': 1, 'mucositis': 2, 'thrombocytosis': 2, 'hydroxyurea': 3, 'anagrelide': 1, 'agrelin': 1, 'troglitazone': 3, 'kaposi': 2, 'alfa-2a': 9, 'retrovirus': 1, 'roferon': 3, 'hoffmann': 3, 'roche': 3, 'nutley': 2, 'interferons': 3, 'hypersplenism': 1, 'remissions': 1, 'ph1': 1, 'leucovorin': 3, 'tpfl5': 2, 'scchn': 2, 'eastern': 1, 'cooperative': 1, 'ltg': 3, 'omega3': 3, 'manner': 1, 'lithium': 1, 'mood': 1, 'blockers': 2, 'ami': 1, 'diastolic': 1, 'lv': 3, 'fluvastatin': 1, 'hypercholesterolaemia': 1, 'n-3': 1, 'fap': 1, 'dha': 3, 'epa': 1, 'nephrolithotomy': 1, 'cysts': 3, 'appendectomy': 1, 'ugi': 1, 'knee': 4, 'mesh': 2, 'paracolostomy': 1, 'hernias': 4, 'simplifies': 1, 'copaxone': 1, 'throats': 1, 'magnesium': 3, 'spasms': 1, 'junction': 1, 'pacemaker': 1, 'pharmacological': 2, 'manipulation': 1, 'mycophenolate': 1, 'excision': 2, 'forehead': 1, 'cornuostomy': 1, 'hysterosalpingography': 1, 'prourokinase': 1, 'fibrinoid': 1, 'ophthalmology': 1, 'repens': 1, 'fructus': 1, 'poplar': 1, 'tremula': 1, 'goldenrod': 1, 'solidago': 1, 'virgaurea': 1, 'fraxinus': 1, 'mild': 2, 'mucin': 1, 'cholangioscopy': 1, 'empyema': 3, 'thromboembolic': 1, 'pulmonary': 1, 'hydatid': 1, 'airways': 1, 'hunziker': 1, 'nd': 3, 'pneumothorax': 3, 'microlaryngoscopy': 1, 'stridor': 1, 'lactobacillus': 1, 'acidophilus': 1, 'bg2fo4': 1, 'azithromycin': 1, 'scrub': 1, 'typhus': 1, 'glycoprotein': 2, 'hsv-2': 1, 'ifnbeta-1b': 1, 'nitroprusside': 1, 'vasospasm': 1, 'heliox': 1, 'haemolysis': 1, 'lindinavir': 1, 'dipyridamole': 1, 'cd40': 1, 'liarozole': 1, 'plaque': 2, 'acitretin': 1, 'daunorubicin': 1, 'liposomes': 1, 'lutein': 1, 'answers': 1, 'leukocytes': 2, 'quinidine': 1, 'horses': 1, 'eimeria': 1, 'caisson': 1, 'decompression': 1, 'burn': 1, 'phenylbutazone': 1, 'friends': 1, 'polio': 2, 'participation': 2, 'alpha-2b': 1, 'clomipramine': 2, 'panic': 1, 'ulcers': 3, 'pancreas-/kidney': 1, 'castration': 1, 'tumour': 3, 'sheffield': 1, 'table': 3, 'ectopia': 1, 'lentis': 1, 'north': 2, 'continence': 1, 'prolapse': 2, 'sulbactam': 1, 'cefoxitin': 1, 'jaw': 1, 'neuralgia': 1, 'condoms': 1, 'nonoxynol-9': 1, 'endothelin': 1, 'antagonist': 3, 'bosentan': 1, 'sandostatin': 1, 'acromegaly': 1, 'montelukast': 1, 'leukotriene': 1, 'bronchoconstriction': 1, 'intubation': 2, 'cardia': 1, 'androgen': 2, 'deprivation': 3, 'prostatectomy': 3, 'ulceration': 2, 'eradicate': 1, 'iron': 1, 'deferiprone': 1, 'thalassemia': 1, 'positron': 1, 'emission': 1, 'gore': 1, 'tex': 1, 'salmeterol': 2, 'epirubicin': 1, 'premenopausal': 2, 'lorazepam': 1, 'thromboembolism': 1, 'episode': 3, 'schizophrenics': 1, 'ida': 1, 'flag': 1, 'idarubicin': 1, 'cytarabine': 1, 'aml': 1, 'functioning': 1, 'hirshsprung': 1, 'transperineal': 1, 'brachytherapy': 1, 'gleason': 1, 'pancreatectomy': 1, 'hypoglycaemia': 1, 'margins': 1, 'incisions': 1, 'open': 1, 'capsulorrhaphy': 1, 'anchors': 1, 'lignocaine': 1, 'bupivacaine': 1, 'ring': 1, 'epicondylitis': 1, 'quervain': 1, 'tenosynovitis': 1, 'immobilisation': 1, 'anticytokine': 1, 'era': 3, 'mhs': 1, 'clozapine': 1, 'psychosis': 1, 'fluoxetine': 1, 'multicentre': 2, 'vigabatrin': 1, 'sabril': 1, 'epilepsies': 1, 'barrett': 2, 'argon': 1, 'agalactiae': 1, 'predictors': 2, 'schistosoma': 2, 'intranasal': 1, 'serovar': 2, 'cholera': 1, 'ipratropium': 1, 'nepal': 1, 'laminectomy': 1, 'thrombocytopenic': 1, 'sleep': 2, 'cj-11': 1, 'emesis': 1, 'nitroglycerin': 1, 'fissure': 1, 'longitudinal': 1, 'melanonychia': 1, 'peritonitis': 2, 'duodenum': 1, 'irrigation': 1, 'pompholyx': 1, 'eczema': 1, 'i.v': 1, 'anastomosis': 1, 'ranitidin': 1, 'eortc': 1, 'dependence': 1, 'cryogen': 1, 'spray': 1, 'apheresis': 1, 'atherosclerosis': 1, 'groin': 1, 'ticarcillin': 1, 'imipenem': 1, 'cilistatin': 1, 'appendicitis': 1, 'babies': 1, 'derivatives': 2, 'antiplatelet': 1, 'fluoroquinolones': 1, 'floor': 1, 'vagus': 1, 'lymphedema': 1, 'technologies': 1, 'counterpulsation': 1, 'pectoris': 1, 'intra': 1, 'hyaluronan': 1, 'osteoarthritis': 1, 'degrees': 3, 'fluctuations': 1, 'aberrations': 1, 'finding': 1, 'spina': 1, 'bifida': 1, 'ohio': 1, 'pallor': 1, 'hypotonia': 1, 'hepatosplenomegaly': 1, 'dl': 3, 'kleihauer': 1, 'betke': 1, 'stain': 2, 'hemorrhages': 1, 'asymmetric': 1, 'hemiplegia': 1, 'apoe*4': 1, 'coding': 1, 'effort': 2, 'institutions': 3, 'switzerland': 1, 'retrospective': 1, 'segregation': 2, 'respects': 1, 'candidate': 1, 'p=.015': 1, 'caucasian': 1, 'decisions': 1, 'mann': 1, 'whitney': 1, 'u': 3, 'randomization': 1, 'karyotypic': 1, 'plausibility': 1, 'analogies': 1, 'crossover': 1, 'electroencephalogram': 1, 'sets': 1, 'quantifying': 1, 'noise': 2, 'resonances': 1, 'distortion': 1, 'intensivist': 1, 'immunonutrition': 1, 'ivf': 2, 'gondotropin': 1, 'mixtures': 1, 'l-': 2, 'abundance': 1, 'constraints': 1, 'question': 2, 'consist': 1, 'enantiomer': 1, 'solar': 1, 'tadpoles': 1, 'leeches': 1, 'poverty': 2, 'aggressiveness': 1, 'feature': 2, 'mrna': 1, 'm13': 1, 'dye': 1, 'abi': 1, 'stimulus': 4, 'weekly': 3, 'supervision': 1, 'ens': 6, 'pi': 5, 'algometry': 1, 'motion': 1, 'goniometer': 1, 'bending': 1, 'tightness': 2, 'rays': 1, 'partners': 1, 'abbe': 1, 'mcindoe': 1, 'frank': 1, 'obesity': 1, 'approval': 1, 'suppressants': 1, 'manufacturer': 1, 'brainstem': 1, 'fox': 1, 'progenitors': 1, 'phosphorylation': 1, 'p46': 1, '56shc': 1, 'p120cbl': 1, 'objects': 3, 'words': 5, 'nonsense': 1, 'cochlear': 1, 'htl': 1, 'ear': 1, 'cotransfection': 2, 'heterodimers': 1, 'janus': 1, 'jak2': 3, 'handpieces': 1, 'syringes': 2, 'homologues': 1, 'muthls': 1, 'misincorporation': 1, 'phenotype': 1, 'curtis': 1, 'postirradiation': 1, 'reanalysis': 1, 'pools': 1, 'dsbs': 1, 'audiotape': 1, 'depiction': 1, 'stimulating': 1, 'neutrophils': 3, 'filgrastim': 1, 'cellulitis': 1, 'nmol': 1, 'equivalence': 1, 'p=0.24': 1, 'p=0.23': 1, 'diseasein': 1, 'valves': 2, 'encasement': 1, 'leaflets': 1, 'chordal': 1, 'architecture': 1, 'feet': 1, 'average': 1, 'shoes': 1, 'alignment': 1, 'goals': 1, 'dorsiflexion': 1, 'ever': 1, 'strokes': 2, 'fatality': 1, 'victims': 2, 'sexes': 1, 'produces': 1, 'adduct': 1, 'onoo': 1, 'co2-': 1, 'unified': 2, 'rating': 3, 'updrs': 2, 'maturation': 2, 'bv': 1, 'tv': 1, 'ash': 1, 'mineralization': 1, 'cullen': 1, 'eye': 2, 'baylor': 1, 'houston': 1, 'serotonin1a': 1, 'subtype': 1, 'hazard': 3, 'speed': 1, 'fentanyl': 2, 'sufentanil': 3, 'opioids': 2, 'mapping': 2, 'hematopoiesis': 1, 'urological': 2, 'subject': 1, 'mcg': 1, 'genoma': 1, 'attack': 2, 'division': 1, 'lengthening': 1, 'retrovectors': 1, 'terminal': 1, 'neo': 1, 'pre-': 1, 'thymidine': 2, 'hytk': 1, 'targets': 1, 'retro': 2, 'promoters': 1, 'variations': 1, 'rotunda': 1, 'irish': 1, 'ophthalmoscopy': 1, 'situation': 1, 'resident': 1, 'parasites': 2, 'deviation': 1, 'statistics': 2, 'engage': 1, 'struggle': 1, 'barriers': 1, 'cyp1a1': 1, 'variant': 3, 'null': 1, 'hemodynamics': 1, 'syncope': 1, 'p=.021': 1, 'p=.013': 1, 'engineer': 1, 'radiofrequency': 1, 'spheroid': 1, 'zones': 1, 'externus': 1, 'gpe': 1, 'correlations': 1, 'bradykinesia': 1, 'dyskinesias': 1, 'parents': 1, 'evaluations': 1, 'subspecialty': 1, 'trainees': 1, 'genodermatosis': 1, 'eruption': 2, 'papules': 1, 'unilateral': 1, 'sunlight': 1, 'tretinoin': 1, 'plants': 1, 'dimers': 1, 'minimal': 1, 'camii': 2, 'mrnas': 1, 'trend': 1, 'quantity': 1, 'follicle': 1, 'fsh': 2, 'testicle': 2, 'haematomata': 1, 'yield': 1, 'pc12': 1, 'neurite': 1, 'outgrowth': 1, 'ngf': 1, 'things': 1, 'way': 1, 'pathophysiology': 1, 'discriminators': 1, 'ua': 2, 'lipoproteins': 1, 'phosphoglycerate': 1, 'pgk': 2, 'mpv': 2, 'decreases': 1, 'glyceraldehyde': 1, 'g3pd': 2, 'perturbations': 1, 'glycolysis': 1, 'thiabendazole': 1, 'fungicide': 1, 'anthelmintic': 1, 'amine': 1, 'films': 1, 'glutaraldehyde': 1, 'sucrose': 1, 'radio': 1, 'ellipsometry': 1, 'widths': 1, 'microns': 1, 'antigens': 1, 'thermoelectric': 1, 'immunobiosensing': 1, 'evanescent': 1, 'volumetric': 1, 'bonding': 1, 'enhancement': 1, 't98': 1, 'dimensions': 1, 'yolk': 1, '4q21': 1, 'translocations': 2, 'all-1': 1, 'leukaemias': 1, 'phage': 2, 'fragments': 1, 'inserts': 1, 'contigs': 1, 'antisera': 1, 'lymphoblastoid': 1, 'relevance': 1, 'similarity': 1, 'rebound': 1, 'recombinant': 1, 'polyproteins': 1, 'cycloheximide': 1, 'actinomycin': 1, 'transporters': 1, 'microdissection': 1, 'dop': 2, 'rehybridization': 1, 'rflps': 1, 'character': 1, 'rhesus': 3, 'monkeys': 2, 'psychomotor': 1, 'obese': 1, 'diabetics': 1, 'discovery': 1, 'fibrates': 1, 'ppar': 1, 'peroxisome': 1, 'proliferator': 1, 'activated': 1, 'hyperlipidemias': 2, 'breakthrough': 1, 'bout': 1, 'staleness': 1, 'frame': 1, 'ratings': 1, 'exertion': 3, 'vo2max': 2, 'uptake': 2, 'endurance': 1, 'calibrators': 1, 'recommendation': 2, 'calibration': 1, 'supply': 1, 'radiologists': 1, 'inferiority': 1, 'clot': 1, 'mallard': 1, 'ducklings': 1, 'anas': 1, 'platyrhynchos': 1, 'legs': 1, 'araneus': 1, 'diadematus': 1, 'cl': 1, 'prey': 1, 'ants': 1, 'courtship': 1, 'obscura': 1, 'retention': 1, 'meaningfulness': 1, 'odours': 1, 'vividness': 1, 'recall': 1, 'memorization': 1, 'pictures': 1, 'physico': 1, 'salts': 1, 'veriform': 1, 'appendix': 1, 'isotopes': 1, 'angiogram': 1, 'auto': 1, 'uro': 1, 'lymphatics': 1, 'interruption': 1, 'bra': 1, 'mastitis': 1, 'hydatiform': 1, 'karen': 1, 'pyloroplasty': 1, 'udders': 1, 'coagulase': 1, 'staphylococci': 1, 'repository': 1, 'preparations': 5, 'ovaries': 1, 'h3': 1, 'medulla': 1, 'nuclei': 1, 'cava': 1, 'obstruction': 5, 'tubule': 1, 'reabsorption': 1, 'cholic': 1, 'laennec': 1, 'hypercoagulability': 1, 'benzodiazepine': 1, 'histochemistry': 1, 'responsibilities': 1, 'obstetrician': 1, 'rickets': 1, 'conjunctival': 1, 'aromatization': 1, 'hydroxydehydroepiandrosterone': 1, 'virgin': 1, 'oxytocin': 1, 'stillbirth': 1, 'asphyxia': 1, 'cr': 1, 'zn': 1, 'fe': 1, 'contaminants': 1, 'aluminium': 1, 'lakes': 1, 'spectrophotometry': 1, 'microorganisms': 1, 'griseophenone': 1, 'methylcoclaurine': 1, 'sparteine': 1, 'draft': 1, 'adoption': 1, 'edition': 1, 'pharmacopoeia': 1, 'tetrazolium': 1, 'pig': 1, 'potassium': 1, 'diuresis': 1, 'botallo': 1, 'ductus': 1, 'arteriosus': 1, 'sphincterotomies': 1, 'oddi': 1, 'sphincter': 1, 'rhinitis': 1, 'herds': 1, 'piglet': 1, 'adenosine': 2, 'slices': 1, 'balance': 1, 'radium': 1, 'leukomalacia': 1, 'rectus': 3, 'mimicking': 1, 'abruptio': 1, 'thyroglossal': 1, 'packs': 1, 'melanomas': 1, 'cd44': 1, 'v5': 1, 'v6': 1, 'mastoid': 1, 'wake': 1, 'county': 1, 'carolina': 1, 'homology': 1, 'modeling': 1, 'saccharomyces': 1, 'ars': 1, 'spasm': 1, 'felbamate': 1, 'phosphatidylinositol': 1, 'degranulation': 1, 'ige': 1, 'rbl-2h3': 1, 'determinants': 2, 'heterozygosity': 1, 'arm': 1, 'p15ink4b': 1, 'p16ink4': 1, 'roots': 1, 'uncertainties': 2, 'vigilance': 1, 'quanification': 1, 'noe': 1, 'tin': 1, 'derivative': 1, 'erythromycin': 1, 'cooling': 1, 'h2nco': 1, 'e.cosy': 1, 'dosimetry': 1, 'software': 1, 'isolates': 1, 'war': 1, 'telemedicine': 1, 'androgens': 1, 'diagnosing': 1, 'polymyalgia': 1, 'rheumatica': 1, 'arteritis': 1, 'apnoea': 1, 'transurethral': 1, 'microwave': 1, 'thermotherapy': 2, 'pruning': 1, 'mcdonough': 1, 'humanizing': 1, 'contempo': 1, 'refusal': 1, 'icu': 1, 'sãƒ': 1, 'readers': 1, 'russia': 1, 'menopause': 1, 'cuba': 1, 'amiodarone': 1, 'probucol': 1, 'multivitamins': 1, 'stick': 1, 'prolactin': 1, 'lethality': 1, 'continuous': 1, 'cobalt': 1, 'begets': 1, 'trouble': 2, 'anaesthetists': 2, 'rounds': 1, 'addresses': 1, 'tinnitus': 1, 'lipids': 1, 'telogen': 1, 'effluvium': 1, 'alopecia': 2, 'equality': 1, 'hormonal': 1, 'answer': 1, 'salvage': 1, 'extrusion': 1, 'fluoridation': 1, 'tooth': 1, 'decay': 1, 'olds': 1, 'jarman': 1, 'amnesty': 1, 'glasgow': 1, 'advertising': 1, 'advertisements': 1, 'bmj': 1, 'alexia': 1, 'disconnection': 1, 'exercises': 1, 'rewarming': 1, 'directive': 1, 'spongiform': 1, 'pelvimetry': 1, 'tom': 1, 'heinemann': 1, 'paradise': 1, 'euroqol': 1, 'short': 1, 'form-36': 1, 'wolf': 1, 'sheep': 1, 'clothing': 1, 'hospices': 1, 'cda': 1, 'collaborative': 1, 'core': 1, 'nail': 1, 'antegrade': 1, 'hyperglycemia': 1, 'surgical': 1, 'radiologic': 1, 'ovine': 1, 'johne': 1, 'mite': 1, 'dermatitis': 1, 'cheyletiella': 1, 'blakei': 1, 'goldilocks': 1, 'fgl2': 1, 'prothrombinase': 1, 'contraception': 1, 'coumarate': 1, 'coenzyme': 1, 'consequence': 1, 'syt': 1, 'ssx': 1, 'leaders': 1, 'lemmings': 1, 'shark': 1, 'photorepair': 1, 'maladie': 1, 'est': 1, 'morte': 1, 'barotrauma': 1, 'anaesthetic': 1, 'bp-2': 1, 'pna': 1, 'homeopathy': 1, 'ileus': 1, 'connexin-26': 1, 'trade': 1, 'salesman': 1, 'fc': 1, 'immobilization': 1, 'troponin': 1, 'second': 1, 'strang': 1, 'affiliation': 1, 'neuropeptides': 1, 'psychobiology': 1, 'postraumatic': 1, 'p44': 1, 'p42': 1, 'transporter': 1, 'k': 1, 'atpase': 1, 'atpases': 1, 'benelux': 1, 'microcirculation': 1, 'gesellschaft': 1, 'fãƒ1/4r': 1, 'mikrozirkulation': 1, 'e.': 1, 'mainz': 1, 'paris': 1, 'nomenclature': 2, 'rules': 1, 'tetrahymena': 1, 'thermophila': 1, 'paramecium': 2, 'primaurelia': 1, 'tetraurelia': 1, 'seventh': 1, 'ciliate': 1, 'neurone': 1, 'biologist': 1, 'neurotrauma': 1, 'polytrauma': 1, 'bethesda': 2, 'maryland': 2, 'dentistry': 1, 'forum': 1, 'mother': 1, 'developments': 2, 'golf': 1, 'campaign': 1, 'truth': 1, 'hematomas': 1, 'quick': 1, 'borreliosis': 1, 'pseudo': 2, 'seropositivity': 1, 'algae': 1, 'protozoa': 1, 'euglenophytes': 1, 'dinoflagellates': 1, 'beetles': 1, 'genus': 1, 'nicrophorus': 1, 'coleoptera': 1, 'silphidae': 1, 'good': 1, 'projectile': 1, 'wounding': 1, 'absorbable': 1, 'pacing': 1, 'leads': 1, 'grethe': 1, 'kjaergaard': 1, 'surgeon': 1, 'tocopherol': 2, 'sampling': 2, 'adrenocorticotropic': 1, 'cushing': 1, 'hopes': 1, 'perfusion': 1, 'vault': 1, 'adhesives': 1, 'allocation': 1, 'holders': 1, 'specialty': 1, 'chicago': 1, 'brother': 1, 'hip': 2, 'slater': 1, 'sentinel': 1, 'mediocrity': 1, 'sigmoid': 1, 'eccrine': 1, 'eisenmenger': 1, 'chemoradiotherapy': 3, 'caregivers': 1, 'counterpoint': 1, 'proteins-3': 1, 'haystack': 1, 'transfusions': 1, 'sickle': 2, 'house': 1, 'officers': 1, 'ultrafiltrate': 1, 'avl': 1, 'analyzer': 1, 'gram': 1, 'sieve': 1, 'ketogenic': 1, 'microparticle': 1, 'abbott': 1, 'imx': 1, 'select': 1, 'caprie': 1, 'esps-2': 1, 'gorlin': 1, 'mutatations': 1, 'hypercholesterolemia': 1, 'skipping': 1, 'r1623q': 1, 'scn5a': 1, 'sydrome': 1, 'alw': 1, 'lipoprotein': 1, 'revision': 1, 'legislation': 1, 'disk': 1, \"stresst'er\": 1, 'treadmill': 1, 'claudication': 1, 'irregularities': 1, 'lip': 1, 'rationing': 1, 'exceptionalism': 1, 'motherhood': 1, 'back': 1, 'plasmacytoid': 1, 'tsc': 1, 'cystathionine': 1, 'synthase': 2, 'homocystinuria': 1, 'mucopolysaccharidois': 1, 'w402x': 1, 'friday': 1, 'afternoon': 1, 'arteriography': 1, 'fapa': 1, 'fridays': 1, 'branch': 1, 'relatives': 1, 'view': 1, 'wistar': 1, 'pouchitis': 1, 'pouch': 1, 'iomeprol': 1, 'harvest': 1, 'grafts': 1, 'apc': 1, 'hemoptysis': 1, 'sp1': 1, 'decoy': 1, 'hamsters': 1, 'mdp': 3, 'lys': 3, 'adenovirus': 1, 'interleukin': 1, 'il-12': 1, 'y.': 1, 'nasu': 1, 'ther': 1, 'decongestant': 1, 'congestion': 2, 'tpvb': 1, 'chronochemotherapy': 1, 'peritoneum': 1, 'antidote': 1, 'hepatotoxicity': 2, 'sulfhydryl': 1, 'donors': 1, 'fluconazole': 1, 'itraconazole': 1, 'ascomycin': 1, 'atopic': 1, 'dermatitism': 1, 'iiib': 1, 'cmt': 1, 'facilitates': 1, '1970s': 1, 'electrocautery': 2, 'bcl-2': 1, 'ijrobp': 1, 'chemosensitivity': 1, 't12': 1, 'rhg': 2, 'infiltration': 1, 'mitoxantrone': 1, 'prolongs': 1, 'cornerstone': 1, 'caval': 1, 'gangliosides': 1, 'vc': 2, 'non': 2, 'category': 1, 'technetium-99': 1, 'tetrofosmin': 1, 'elimination': 1, 'wr-2721': 1, '70gy': 1, 'carboxyhemoglobin': 1, 'oxyhemoglobin': 1, 'assist': 2, 'dihydroxycholecalciferol': 1, 'thrice': 1, 'cimetidine': 1, 'tnm': 1, 'arrhythmogenic': 1, 'cholestasis': 2, 'syringomyelia': 1, 'arachnoiditis': 1, 'antibronchoobstructive': 1, 'largescale': 1, 'heartburn': 1, 'style': 1, 'disruptions': 1, 'blunt': 1, 'marie': 1, 'lannelongue': 1, 'defense': 1, 'wdta': 1, 'pneumocystis': 1, 'carinii': 1, 'antiretrovirals': 1, 'feedings': 1, 'colic': 1, 'cgm': 1, 'hib': 1, 'prp': 1, 'pediatricians': 1, '10th': 1, 'therapeutique': 1, 'infectieuse': 1, 'cctai': 1, 'nasopharyngitis': 1, 'anp': 1, 'louse': 1, 'infestation': 1, 'kosovar': 1, 'refugee': 1, 'rhinovirus': 2, 'inoculation': 1, 'horn': 1, 'cephalosporins': 2, 'exacerbation': 1, 'amoxycillin': 1, 'ks': 1, 'h2n2': 1, 'conduit': 1, 'esophagectomy': 1, 'controller': 1, 'es': 1, 'hypoxemia': 1, 'sida': 1, 'cordifolia': 1, 'malvaceae': 1, 'folk': 1, 'mucosa': 1, 'blenorrhea': 1, 'budesonide': 1, 'cholangitis': 1, 'psc': 1, 'cnv': 1, 'amd': 1, 'von': 1, 'frey': 1, 'monofilaments': 1, 'breasts': 1, 'hypophosphatemia': 1, 'load': 1, 'prolongation': 1, 'span': 1, 'bmt': 1, 'apl': 1, 'embolus': 1, 'aggravation': 1, 'bph': 2, 'nonsteroidal': 1, 'antiinflammatory': 1, 'midline': 2, 'thoracoscopy': 2, 'alternatives': 1, 'fluoropyrimidine': 1, 'adrenalectomy': 1, 'n1': 1, 'regressions': 1, 'lamotrigine': 2, 'outpatients': 1, 'achalasia': 1, 'myotomy': 1, 'hysteroscopy': 1, '1980s': 1, 'psa': 1, 'register': 1, 'colles': 1, 'pralidoxime': 1, 'fiber': 1, 'triphosphate': 1, 'sulfoximine': 1, 'chemosensitization': 1, 'b16': 1, 'sparing': 1, 'dukes': 1, 'devascularization': 1, 'stapling': 1, 'door': 1, 'excimer': 1, 'keratomileusis': 1, 'hyperopia': 1, 'myocardial': 1, 'hydrocele': 1, 'epididymis': 1, 'quinine': 1, 'chlorhydrolactate': 1, 'clomiphene': 1, 'tha': 1, 'noninsulin': 1, 'mopp': 1, 'abv': 1, 'diazepam': 1, 'veterans': 1, 'affairs': 1, 'contraindications': 1, 'neuroma': 1, 'cryotherapy': 1, 'phakic': 1, 'metalloproteinase': 1, 'mf59': 1, 'adjuvant': 1, 'pertussis': 1, 'rubella': 1, 'mumps': 1, 'seldinger': 1, 'avitriptan': 1, 'bms-180048': 1, 'bisoprolol': 1, 'thera': 1, 'spoon': 1, 'malathion': 1, 'colonoscopy': 1, 'tolcapone': 1, 'catechol': 1, 'methyltransferase': 1, 'levodopa': 1, 'dry': 1, 'formoterol': 1, 'poliomyelitis': 1, 'poliovirus': 1, 'brimonidine': 1, 'tartrate': 1, 'timolol': 1, 'epoetin': 1, 'vasoreactivity': 1, 'thrombogenicity': 1, 'occlusions': 1, 'angioscopic': 1, 'tandem': 1, 'myeloma': 1, 'abortion': 1}\n"
          ]
        },
        {
          "name": "stderr",
          "output_type": "stream",
          "text": [
            "\n"
          ]
        }
      ],
      "source": [
        "# Extracting noun or propn\n",
        "total_corpus = train_corpus + test_corpus\n",
        "print(\"The total number of sentences are: \",len(total_corpus))\n",
        "concept_dict = {}\n",
        "for sent in tqdm(total_corpus):\n",
        "    doc = model(sent)\n",
        "    for token in doc:\n",
        "        if token.pos_ == \"NOUN\" or token.pos_ == \"PROPN\":\n",
        "            if token.text.lower() in concept_dict.keys():\n",
        "                concept_dict[token.text.lower()] = concept_dict[token.text.lower()]+1\n",
        "            else:\n",
        "                concept_dict[token.text.lower()] = 1\n",
        "print(\"Tokens that are noun or propn in the entire data set are: \", len(concept_dict.keys()))\n",
        "print(concept_dict)\n"
      ]
    },
    {
      "cell_type": "markdown",
      "metadata": {
        "id": "-SQG8wRxMo6A"
      },
      "source": [
        "### Printing the top 25 most common tokens with NOUN or PROPN PoS tags"
      ]
    },
    {
      "cell_type": "code",
      "execution_count": 27,
      "metadata": {
        "id": "DhDY4jjoawTa"
      },
      "outputs": [
        {
          "name": "stdout",
          "output_type": "stream",
          "text": [
            "The top 25 commonly occuring tokens as noun or propn are :\n"
          ]
        },
        {
          "data": {
            "text/html": [
              "<div>\n",
              "<style scoped>\n",
              "    .dataframe tbody tr th:only-of-type {\n",
              "        vertical-align: middle;\n",
              "    }\n",
              "\n",
              "    .dataframe tbody tr th {\n",
              "        vertical-align: top;\n",
              "    }\n",
              "\n",
              "    .dataframe thead th {\n",
              "        text-align: right;\n",
              "    }\n",
              "</style>\n",
              "<table border=\"1\" class=\"dataframe\">\n",
              "  <thead>\n",
              "    <tr style=\"text-align: right;\">\n",
              "      <th></th>\n",
              "      <th>0</th>\n",
              "    </tr>\n",
              "  </thead>\n",
              "  <tbody>\n",
              "    <tr>\n",
              "      <th>patients</th>\n",
              "      <td>507</td>\n",
              "    </tr>\n",
              "    <tr>\n",
              "      <th>treatment</th>\n",
              "      <td>304</td>\n",
              "    </tr>\n",
              "    <tr>\n",
              "      <th>%</th>\n",
              "      <td>247</td>\n",
              "    </tr>\n",
              "    <tr>\n",
              "      <th>cancer</th>\n",
              "      <td>211</td>\n",
              "    </tr>\n",
              "    <tr>\n",
              "      <th>therapy</th>\n",
              "      <td>177</td>\n",
              "    </tr>\n",
              "    <tr>\n",
              "      <th>study</th>\n",
              "      <td>173</td>\n",
              "    </tr>\n",
              "    <tr>\n",
              "      <th>disease</th>\n",
              "      <td>149</td>\n",
              "    </tr>\n",
              "    <tr>\n",
              "      <th>cell</th>\n",
              "      <td>142</td>\n",
              "    </tr>\n",
              "    <tr>\n",
              "      <th>lung</th>\n",
              "      <td>118</td>\n",
              "    </tr>\n",
              "    <tr>\n",
              "      <th>group</th>\n",
              "      <td>111</td>\n",
              "    </tr>\n",
              "    <tr>\n",
              "      <th>results</th>\n",
              "      <td>105</td>\n",
              "    </tr>\n",
              "    <tr>\n",
              "      <th>effects</th>\n",
              "      <td>99</td>\n",
              "    </tr>\n",
              "    <tr>\n",
              "      <th>chemotherapy</th>\n",
              "      <td>91</td>\n",
              "    </tr>\n",
              "    <tr>\n",
              "      <th>gene</th>\n",
              "      <td>91</td>\n",
              "    </tr>\n",
              "    <tr>\n",
              "      <th>use</th>\n",
              "      <td>87</td>\n",
              "    </tr>\n",
              "    <tr>\n",
              "      <th>effect</th>\n",
              "      <td>82</td>\n",
              "    </tr>\n",
              "    <tr>\n",
              "      <th>women</th>\n",
              "      <td>81</td>\n",
              "    </tr>\n",
              "    <tr>\n",
              "      <th>analysis</th>\n",
              "      <td>76</td>\n",
              "    </tr>\n",
              "    <tr>\n",
              "      <th>risk</th>\n",
              "      <td>74</td>\n",
              "    </tr>\n",
              "    <tr>\n",
              "      <th>surgery</th>\n",
              "      <td>73</td>\n",
              "    </tr>\n",
              "    <tr>\n",
              "      <th>cases</th>\n",
              "      <td>72</td>\n",
              "    </tr>\n",
              "    <tr>\n",
              "      <th>p</th>\n",
              "      <td>70</td>\n",
              "    </tr>\n",
              "    <tr>\n",
              "      <th>rate</th>\n",
              "      <td>68</td>\n",
              "    </tr>\n",
              "    <tr>\n",
              "      <th>survival</th>\n",
              "      <td>67</td>\n",
              "    </tr>\n",
              "    <tr>\n",
              "      <th>children</th>\n",
              "      <td>66</td>\n",
              "    </tr>\n",
              "  </tbody>\n",
              "</table>\n",
              "</div>"
            ],
            "text/plain": [
              "                0\n",
              "patients      507\n",
              "treatment     304\n",
              "%             247\n",
              "cancer        211\n",
              "therapy       177\n",
              "study         173\n",
              "disease       149\n",
              "cell          142\n",
              "lung          118\n",
              "group         111\n",
              "results       105\n",
              "effects        99\n",
              "chemotherapy   91\n",
              "gene           91\n",
              "use            87\n",
              "effect         82\n",
              "women          81\n",
              "analysis       76\n",
              "risk           74\n",
              "surgery        73\n",
              "cases          72\n",
              "p              70\n",
              "rate           68\n",
              "survival       67\n",
              "children       66"
            ]
          },
          "execution_count": 27,
          "metadata": {},
          "output_type": "execute_result"
        }
      ],
      "source": [
        "concept_df = pd.DataFrame.from_dict(concept_dict,orient = \"index\")\n",
        "print(\"The top 25 commonly occuring tokens as noun or propn are :\")\n",
        "concept_df.sort_values(by=list(concept_df.columns)[0],ascending=False).head(25)"
      ]
    },
    {
      "cell_type": "markdown",
      "metadata": {
        "id": "bnfAlKgA5fd4"
      },
      "source": [
        "## Defining features for CRF"
      ]
    },
    {
      "cell_type": "markdown",
      "metadata": {
        "id": "haBEOsZGKhb9"
      },
      "source": [
        "### Getting the features for a word"
      ]
    },
    {
      "cell_type": "code",
      "execution_count": 28,
      "metadata": {
        "id": "aS6P1Gog3JMf"
      },
      "outputs": [],
      "source": [
        "# Getting the features for one word\n",
        "def feat_word(sentence_list,position,pos):\n",
        "    features = [\n",
        "    \"word.lower=\" + sentence_list[position].lower(), # word id\n",
        "    \"word.pos=\" + pos] # word pos\n",
        "    if position == 0:\n",
        "        features.append(\"BEG\") # beginning\n",
        "    elif position == len(sentence_list) - 1:\n",
        "        features.append(\"END\") # ending\n",
        "    if position > 0:\n",
        "        features.append(\"prev_word.lower=\" + sentence_list[position-1].lower()) # previous word\n",
        "    return features"
      ]
    },
    {
      "cell_type": "markdown",
      "metadata": {},
      "source": [
        "### Getting the features for a sentence"
      ]
    },
    {
      "cell_type": "code",
      "execution_count": 29,
      "metadata": {
        "id": "emBIm5uK7vtK"
      },
      "outputs": [
        {
          "name": "stdout",
          "output_type": "stream",
          "text": [
            "Features for a single word : ['word.lower=all', 'word.pos=DET', 'BEG']\n",
            "Features for a single sentence:  [['word.lower=all', 'word.pos=DET', 'BEG'], ['word.lower=live', 'word.pos=ADJ', 'prev_word.lower=all'], ['word.lower=births', 'word.pos=NOUN', 'prev_word.lower=live'], ['word.lower=>', 'word.pos=PUNCT', 'prev_word.lower=births'], ['word.lower=or', 'word.pos=CCONJ', 'prev_word.lower=>'], ['word.lower==', 'word.pos=SYM', 'prev_word.lower=or'], ['word.lower=23', 'word.pos=NUM', 'prev_word.lower=='], ['word.lower=weeks', 'word.pos=NOUN', 'prev_word.lower=23'], ['word.lower=at', 'word.pos=ADP', 'prev_word.lower=weeks'], ['word.lower=the', 'word.pos=DET', 'prev_word.lower=at'], ['word.lower=university', 'word.pos=PROPN', 'prev_word.lower=the'], ['word.lower=of', 'word.pos=ADP', 'prev_word.lower=university'], ['word.lower=vermont', 'word.pos=PROPN', 'prev_word.lower=of'], ['word.lower=in', 'word.pos=ADP', 'prev_word.lower=vermont'], ['word.lower=1995', 'word.pos=NUM', 'prev_word.lower=in'], ['word.lower=(', 'word.pos=PUNCT', 'prev_word.lower=1995'], ['word.lower=n', 'word.pos=CCONJ', 'prev_word.lower=('], ['word.lower==', 'word.pos=SYM', 'prev_word.lower=n'], ['word.lower=2395', 'word.pos=NUM', 'prev_word.lower=='], ['word.lower=)', 'word.pos=PUNCT', 'prev_word.lower=2395'], ['word.lower=were', 'word.pos=AUX', 'prev_word.lower=)'], ['word.lower=retrospectively', 'word.pos=ADV', 'prev_word.lower=were'], ['word.lower=analyzed', 'word.pos=VERB', 'prev_word.lower=retrospectively'], ['word.lower=for', 'word.pos=ADP', 'prev_word.lower=analyzed'], ['word.lower=delivery', 'word.pos=NOUN', 'prev_word.lower=for'], ['word.lower=route', 'word.pos=NOUN', 'prev_word.lower=delivery'], ['word.lower=,', 'word.pos=PUNCT', 'prev_word.lower=route'], ['word.lower=indication', 'word.pos=NOUN', 'prev_word.lower=,'], ['word.lower=for', 'word.pos=ADP', 'prev_word.lower=indication'], ['word.lower=cesarean', 'word.pos=ADJ', 'prev_word.lower=for'], ['word.lower=,', 'word.pos=PUNCT', 'prev_word.lower=cesarean'], ['word.lower=gestational', 'word.pos=ADJ', 'prev_word.lower=,'], ['word.lower=age', 'word.pos=NOUN', 'prev_word.lower=gestational'], ['word.lower=,', 'word.pos=PUNCT', 'prev_word.lower=age'], ['word.lower=parity', 'word.pos=NOUN', 'prev_word.lower=,'], ['word.lower=,', 'word.pos=PUNCT', 'prev_word.lower=parity'], ['word.lower=and', 'word.pos=CCONJ', 'prev_word.lower=,'], ['word.lower=practice', 'word.pos=NOUN', 'prev_word.lower=and'], ['word.lower=group', 'word.pos=NOUN', 'prev_word.lower=practice'], ['word.lower=(', 'word.pos=PUNCT', 'prev_word.lower=group'], ['word.lower=to', 'word.pos=PART', 'prev_word.lower=('], ['word.lower=reflect', 'word.pos=VERB', 'prev_word.lower=to'], ['word.lower=risk', 'word.pos=NOUN', 'prev_word.lower=reflect'], ['word.lower=status', 'word.pos=NOUN', 'prev_word.lower=risk'], ['word.lower=)', 'word.pos=PUNCT', 'END', 'prev_word.lower=status']]\n"
          ]
        }
      ],
      "source": [
        "# Write a code to get features for a sentence.\n",
        "def get_feat_sent(sentence,nlp_model):\n",
        "    sentence_list = sentence.split()\n",
        "    doc = nlp_model(sentence)\n",
        "    return [feat_word(sentence_list,i,doc[i].pos_) for i in range(0,len(sentence_list))]\n",
        "\n",
        "# Printing features for one word and one sentence\n",
        "print_feat = get_feat_sent(train_corpus[0],model)\n",
        "print(\"Features for a single word :\",print_feat[0])\n",
        "print(\"Features for a single sentence: \",print_feat)"
      ]
    },
    {
      "cell_type": "markdown",
      "metadata": {
        "id": "A7fs-B8CNein"
      },
      "source": [
        "### Getting the labels of a sentence"
      ]
    },
    {
      "cell_type": "code",
      "execution_count": 30,
      "metadata": {
        "id": "tiA-A_ws8I8-"
      },
      "outputs": [
        {
          "name": "stdout",
          "output_type": "stream",
          "text": [
            "['O', 'O', 'O', 'O', 'O', 'O', 'O', 'O', 'O', 'O', 'O', 'O', 'O', 'O', 'O', 'O', 'O', 'O', 'O', 'O', 'O', 'O', 'O', 'O', 'O', 'O', 'O', 'O', 'O', 'O', 'O', 'O', 'O', 'O', 'O', 'O', 'O', 'O', 'O', 'O', 'O', 'O', 'O', 'O', 'O']\n"
          ]
        }
      ],
      "source": [
        "# Write a code to get the labels for a sentence.\n",
        "def get_labels_sent(labels,sentence_pos):\n",
        "    return labels[sentence_pos].split()\n",
        "# Printing labels for once sentence\n",
        "print(get_labels_sent(train_labels,0))"
      ]
    },
    {
      "cell_type": "markdown",
      "metadata": {
        "id": "QG6hYY6rNjS8"
      },
      "source": [
        "## Defining input and target variables\n"
      ]
    },
    {
      "cell_type": "markdown",
      "metadata": {
        "id": "U1C4djFXNpqN"
      },
      "source": [
        "### Defining the input features for train and test sets"
      ]
    },
    {
      "cell_type": "code",
      "execution_count": 31,
      "metadata": {
        "id": "8Nuz-MjW8LWm"
      },
      "outputs": [
        {
          "name": "stderr",
          "output_type": "stream",
          "text": [
            "100%|██████████| 2599/2599 [00:13<00:00, 198.18it/s]\n",
            "100%|██████████| 1056/1056 [00:05<00:00, 203.71it/s]\n"
          ]
        }
      ],
      "source": [
        "X_train = [get_feat_sent(sentence,model) for sentence in tqdm(train_corpus)]\n",
        "X_test = [get_feat_sent(sentence,model) for sentence in tqdm(test_corpus)]"
      ]
    },
    {
      "cell_type": "markdown",
      "metadata": {
        "id": "q88-s6BQNr0M"
      },
      "source": [
        "### Defining the labels as the target variable for test and the train sets"
      ]
    },
    {
      "cell_type": "code",
      "execution_count": 32,
      "metadata": {
        "id": "HrzLkWs0Nvx4"
      },
      "outputs": [
        {
          "name": "stderr",
          "output_type": "stream",
          "text": [
            "100%|██████████| 2599/2599 [00:00<00:00, 1299594.19it/s]\n",
            "100%|██████████| 1056/1056 [00:00<00:00, 700487.91it/s]\n"
          ]
        }
      ],
      "source": [
        "y_train = [get_labels_sent(train_labels,i) for i in tqdm(range(0,len(train_corpus)))]\n",
        "y_test = [get_labels_sent(test_labels,i) for i in tqdm(range(0,len(test_corpus)))]"
      ]
    },
    {
      "cell_type": "markdown",
      "metadata": {
        "id": "YrIAz8gqN_Js"
      },
      "source": [
        "## Building the CRF Model"
      ]
    },
    {
      "cell_type": "code",
      "execution_count": 33,
      "metadata": {
        "id": "k2oGSiqQ8Otd"
      },
      "outputs": [],
      "source": [
        "# Build the CRF model.\n",
        "crf = sklearn_crfsuite.CRF(max_iterations=100)\n",
        "try:\n",
        "    crf.fit(X_train, y_train)\n",
        "except AttributeError:\n",
        "    pass"
      ]
    },
    {
      "cell_type": "markdown",
      "metadata": {
        "id": "5VPFrPZJOJMq"
      },
      "source": [
        "## Model Evaluation"
      ]
    },
    {
      "cell_type": "markdown",
      "metadata": {
        "id": "84gUagMZOP9B"
      },
      "source": [
        "### Prediction for test set"
      ]
    },
    {
      "cell_type": "code",
      "execution_count": 34,
      "metadata": {
        "id": "D_sDJs1n8-sI"
      },
      "outputs": [
        {
          "name": "stdout",
          "output_type": "stream",
          "text": [
            "Actual labels for sentence-1 in test set:  ['O', 'O', 'O', 'O', 'O', 'O', 'O', 'O', 'O', 'O', 'O', 'O', 'O', 'O', 'O', 'O', 'O', 'O', 'O', 'O', 'O', 'O', 'O', 'O', 'O', 'O', 'O', 'O', 'O', 'O', 'O', 'O', 'O', 'O', 'O', 'O', 'O', 'O', 'O', 'O', 'O', 'O', 'O', 'O']\n",
            "Predicted labels for sentence-1 in test set:  ['O', 'O', 'O', 'O', 'O', 'O', 'O', 'O', 'O', 'O', 'O', 'O', 'O', 'O', 'O', 'O', 'O', 'O', 'O', 'O', 'O', 'O', 'O', 'O', 'O', 'O', 'O', 'O', 'O', 'O', 'O', 'O', 'O', 'O', 'O', 'O', 'O', 'O', 'O', 'O', 'O', 'O', 'O', 'O']\n"
          ]
        }
      ],
      "source": [
        "y_pred = crf.predict(X_test)\n",
        "print(\"Actual labels for sentence-1 in test set: \", y_test[0])\n",
        "print(\"Predicted labels for sentence-1 in test set: \", y_pred[0])"
      ]
    },
    {
      "cell_type": "markdown",
      "metadata": {
        "id": "qIneYrqZOUiJ"
      },
      "source": [
        "### Calculating f1 score"
      ]
    },
    {
      "cell_type": "code",
      "execution_count": 35,
      "metadata": {
        "id": "Lr_JNIgrOTcr"
      },
      "outputs": [
        {
          "name": "stdout",
          "output_type": "stream",
          "text": [
            "The f1 score on the test set is :  0.89\n"
          ]
        }
      ],
      "source": [
        "print(\"The f1 score on the test set is : \",round(metrics.flat_f1_score(y_test, y_pred, average='weighted'),2))"
      ]
    },
    {
      "cell_type": "markdown",
      "metadata": {
        "id": "ORDyDw6sYHf5"
      },
      "source": [
        "## Identifying Diseases and Treatments using Custom NER"
      ]
    },
    {
      "cell_type": "markdown",
      "metadata": {
        "id": "V9aOa7LEOcWu"
      },
      "source": [
        "### Creating the dictionary with keys as diseases and treatment as values"
      ]
    },
    {
      "cell_type": "markdown",
      "metadata": {
        "id": "sWxZ2TaOqN-u"
      },
      "source": [
        "![image.png](data:image/png;base64,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)"
      ]
    },
    {
      "cell_type": "code",
      "execution_count": 36,
      "metadata": {
        "id": "6reMqClg97Ry"
      },
      "outputs": [
        {
          "name": "stdout",
          "output_type": "stream",
          "text": [
            "{'hereditary': 'radiotherapy', 'retinoblastoma': 'radiotherapy', 'coronary-artery': 'antichlamydial,antibiotics', 'disease': 'antichlamydial,antibiotics,,,,ropinirole,monotherapy,,,,,,,,,,,,,,,,got,surgical,treatment,resection,,,allowing,neoadjuvant,therapy,platinum,dose,(,cisplatin,plus,carboplatin,),in,combination,chemotherapy,combination,therapy,with,carboplatin,,,,', 'early': 'ropinirole,monotherapy', 'parkinson': 'ropinirole,monotherapy,,,', \"'s\": 'ropinirole,monotherapy,,,,,,,,,laparoscopic,cholecystectomy,,interferon,alpha,,,,', 'sore': 'antibiotics,', 'throat': 'antibiotics,', 'female': 'surgical,treatment', 'stress': 'surgical,treatment,therapy,', 'urinary': 'surgical,treatment,therapy', 'incontinence': 'surgical,treatment,therapy', 'preeclampsia': 'intrauterine,insemination,with,donor,sperm,versus,intrauterine,insemination,,,,,', '(': 'intrauterine,insemination,with,donor,sperm,versus,intrauterine,insemination,got,surgical,treatment,,a,combination,chemotherapy,program,consisting,of,bleomycin,and,methotrexate,weekly,,', 'proteinuric': 'intrauterine,insemination,with,donor,sperm,versus,intrauterine,insemination', 'hypertension': 'intrauterine,insemination,with,donor,sperm,versus,intrauterine,insemination,,,,,,', 'cancer': 'organ,transplantation,and,chemotherapy,,elective,surgery,,,,potential,curative,surgery,,,,,,hormone,replacement,therapy,surgery,combination,with,leucovorin,or,cisplatin,radiotherapy,),vip,combination,chemotherapy,and,early,concurrent,thoracic,irradiation,chemotherapy,,,,,,,,,,,,resection,,combination,chemotherapy,adjuvant,radiation,therapy,paclitaxel,plus,carboplatin,(,pc,),vinorelbine,plus,cisplatin,(,vc,),,,irradiation,therapy,intravenous,amifostine,,,oral,drugs,,,,photodynamic,therapy,in,combination,with,mitomycin,c,nerve-sparing,surgery,chemotherapy,matrix,metalloproteinase,inhibitors,hepatic,arterial,infusion,of,chemotherapy,after,resection,high-dose,chemotherapy,with,autologous,stem-cell,support', 'major': 'thrombolytic,treatment,,surgical,treatment', 'pulmonary': 'thrombolytic,treatment,,chemotherapy,,,,,', 'embolism': 'thrombolytic,treatment,', 'malignant': 'chemotherapy,,,,surgery,systemic,chemotherapy,leukocyte,a,recombinant,interferon,(,rifn-alpha,a,,,roferon-a,,,hoffmann,la,roche,),single,agent,therapy', 'pleural': 'chemotherapy,systemic,chemotherapy', 'mesothelioma': 'chemotherapy,', 'symptoms': 'chemotherapy,,,macrolide,antibiotics', 'attributable': 'chemotherapy', 'colorectal': 'elective,surgery,potential,curative,surgery,combination,with,leucovorin,or,cisplatin,,,,,hepatic,arterial,infusion,of,chemotherapy,after,resection', 'gastrointestinal': 'elective,surgery', 'tumours': 'elective,surgery', 'persistent': 'cranial,nerve,injuries,contemporary,asthma,management,guidelines,list,inhaled,corticosteroids', 'conduction': 'cranial,nerve,injuries', 'blocks': 'cranial,nerve,injuries', 'eisenmenger': 'laparoscopic,cholecystectomy', 'syndrome': 'laparoscopic,cholecystectomy,', 'breast': 'hormone,replacement,therapy,,,', 'some': 'surgery', 'tumors': 'surgery,,', 'such': 'surgery,combination,with,leucovorin,or,cisplatin', 'as': 'surgery,combination,with,leucovorin,or,cisplatin', 'non-small': 'surgery,,,', 'cell': 'surgery,vip,combination,chemotherapy,and,early,concurrent,thoracic,irradiation,,,,resection,,,various,interferon,alpha,preparations,interferon,alfa-n1,,,interferon,alfa-2a,,,and,interferon,alfa-2b,,photodynamic,therapy,in,combination,with,mitomycin,c,interferon,treatment', 'lung': 'surgery,radiotherapy,),vip,combination,chemotherapy,and,early,concurrent,thoracic,irradiation,chemotherapy,,,videothoracoscopic,lobectomy,or,partial,resection,curative,therapy,,,,resection,,combination,chemotherapy,paclitaxel,plus,carboplatin,(,pc,),vinorelbine,plus,cisplatin,(,vc,),,,surgical,treatment', 'inoperable': 'combination,with,leucovorin,or,cisplatin', 'advanced': 'combination,with,leucovorin,or,cisplatin,,radiotherapy,),resection,,,allowing,neoadjuvant,therapy,combination,chemotherapy,of,cisplatin,,,ifosfamide,and,irinotecan,with,rhg-csf,support,,paclitaxel,plus,carboplatin,(,pc,),vinorelbine,plus,cisplatin,(,vc,),,a,combination,chemotherapy,program,consisting,of,bleomycin,and,methotrexate,weekly,various,interferon,alpha,preparations,interferon,alfa-n1,,,interferon,alfa-2a,,,and,interferon,alfa-2b,nerve-sparing,surgery', 'malignancies': 'combination,with,leucovorin,or,cisplatin', 'nsclc': 'got,surgical,treatment,got,surgical,treatment,platinum-based,chemotherapy,systemic,chemotherapy,combination,chemotherapy,of,cisplatin,,,ifosfamide,and,irinotecan,with,rhg-csf,support,chemotherapy,administered,before,surgery,or,definitive,irradiation,', 'stage': 'got,surgical,treatment,vip,combination,chemotherapy,and,early,concurrent,thoracic,irradiation,,curative,therapy,chemotherapy,administered,before,surgery,or,definitive,irradiation,a,combination,chemotherapy,program,consisting,of,bleomycin,and,methotrexate,weekly', 'iiib': 'got,surgical,treatment', ')': 'got,surgical,treatment,,a,combination,chemotherapy,program,consisting,of,bleomycin,and,methotrexate,weekly,,', 'sclc': 'got,surgical,treatment,,', ',': 'got,surgical,treatment,', 'limited': 'got,surgical,treatment,vip,combination,chemotherapy,and,early,concurrent,thoracic,irradiation', 'acute': 'bos,and,concurrent,acute,rejection,,,therapy,with,extracorporeal,photopheresis,,,thrombolytic,therapy,thrombolytic,therapy,antiplatelet,therapy,,,,', 'rejection': 'bos,and,concurrent,acute,rejection,,,therapy,with,extracorporeal,photopheresis', 'episode': 'bos,and,concurrent,acute,rejection,,,therapy,with,extracorporeal,photopheresis', 'locally': 'radiotherapy,)', 'non-small-cell': 'radiotherapy,)', 'small': 'vip,combination,chemotherapy,and,early,concurrent,thoracic,irradiation,,', 'regionally': 'resection,,,allowing,neoadjuvant,therapy', 'effusions': 'systemic,chemotherapy', 'from': 'systemic,chemotherapy,hepatic,arterial,infusion,of,chemotherapy,after,resection', 'small-cell': 'chemotherapy,,combination,chemotherapy,paclitaxel,plus,carboplatin,(,pc,),vinorelbine,plus,cisplatin,(,vc,),', 'carcinoma': 'videothoracoscopic,lobectomy,or,partial,resection,curative,therapy,surgical,resection,,,resection,,various,interferon,alpha,preparations,interferon,alfa-n1,,,interferon,alfa-2a,,,and,interferon,alfa-2b,interferon,treatment', '0': 'curative,therapy', 'ovarian': 'surgical,resection,,,chemotherapy,high-dose,chemotherapy,with,autologous,stem-cell,support', 'brain': 'surgical,resection', 'metastasis': 'surgical,resection', 'assessing': 'combination,chemotherapy,of,cisplatin,,,ifosfamide,and,irinotecan,with,rhg-csf,support', 'primary': 'resection,adjuvant,radiation,therapy,', 'squamous': 'resection', 'iii': 'chemotherapy,administered,before,surgery,or,definitive,irradiation', 'non': 'paclitaxel,plus,carboplatin,(,pc,),vinorelbine,plus,cisplatin,(,vc,),', '--': 'paclitaxel,plus,carboplatin,(,pc,),vinorelbine,plus,cisplatin,(,vc,),', 'extensive': 'platinum,dose,(,cisplatin,plus,carboplatin,),in,combination,chemotherapy,combination,therapy,with,carboplatin', 'head': 'irradiation,therapy,intravenous,amifostine,,,', 'and': 'irradiation,therapy,intravenous,amifostine,i.m,.,lanreotide,therapy,surgical,treatment,,', 'neck': 'irradiation,therapy,intravenous,amifostine', 'disseminated': 'leukocyte,a,recombinant,interferon,(,rifn-alpha,a,,,roferon-a,,,hoffmann,la,roche,)', 'melanoma': 'leukocyte,a,recombinant,interferon,(,rifn-alpha,a,,,roferon-a,,,hoffmann,la,roche,),single,agent,therapy,,', 'received': 'leukocyte,a,recombinant,interferon,(,rifn-alpha,a,,,roferon-a,,,hoffmann,la,roche,)', 'thrice': 'leukocyte,a,recombinant,interferon,(,rifn-alpha,a,,,roferon-a,,,hoffmann,la,roche,)', 'tnm': 'a,combination,chemotherapy,program,consisting,of,bleomycin,and,methotrexate,weekly', 'iib-ivb': 'a,combination,chemotherapy,program,consisting,of,bleomycin,and,methotrexate,weekly', 'mycosis': 'a,combination,chemotherapy,program,consisting,of,bleomycin,and,methotrexate,weekly', 'fungoides': 'a,combination,chemotherapy,program,consisting,of,bleomycin,and,methotrexate,weekly', 'ventricular': 'guiding,surgical,therapy', 'tachycardia': 'guiding,surgical,therapy', 'non-functioning': 'i.m,.,lanreotide,therapy', 'endocrine': 'i.m,.,lanreotide,therapy', 'pancreatic': 'i.m,.,lanreotide,therapy', 'tumor': 'i.m,.,lanreotide,therapy', 'with': 'i.m,.,lanreotide,therapy,,', 'progressive': 'i.m,.,lanreotide,therapy', 'liver': 'i.m,.,lanreotide,therapy', 'lymph': 'i.m,.,lanreotide,therapy', 'node': 'i.m,.,lanreotide,therapy', 'metastases': 'i.m,.,lanreotide,therapy,hepatic,arterial,infusion,of,chemotherapy,after,resection', 'spinal': 'surgical,management', 'adhesive': 'surgical,management', 'arachnoiditis': 'surgical,management', 'lacerations': 'surgical,treatment', 'bronchial': 'surgical,treatment', 'disruptions': 'surgical,treatment', 'caused': 'surgical,treatment', 'by': 'surgical,treatment', 'blunt': 'surgical,treatment', 'thoracic': 'surgical,treatment', 'trauma': 'surgical,treatment', 'of': 'macrolide,antibiotics', 'a': 'macrolide,antibiotics', 'common': 'macrolide,antibiotics', 'cold': 'macrolide,antibiotics', 'asthma': 'contemporary,asthma,management,guidelines,list,inhaled,corticosteroids,,,', 'chronic': 'combination,therapy,with,interferon-alpha,(,ifn,alpha,),plus,ribavirin,,,', 'hepatitis': 'combination,therapy,with,interferon-alpha,(,ifn,alpha,),plus,ribavirin,combination,therapy,vaccine,containing,mf59,adjuvant', 'c': 'combination,therapy,with,interferon-alpha,(,ifn,alpha,),plus,ribavirin,combination,therapy', 'viremia': 'combination,therapy', 'myocardial': 'thrombolytic,therapy,gene,therapy,,', 'infarction': 'thrombolytic,therapy,,', 'occlusion': 'thrombolytic,therapy', 'chemotherapy': 'oral,drugs', 'renal': 'various,interferon,alpha,preparations,interferon,alfa-n1,,,interferon,alfa-2a,,,and,interferon,alfa-2b,interferon,treatment,', 'low-grade': 'interferon,alpha,', 'non-hodgkin': 'interferon,alpha,,', 'lymphoma': 'interferon,alpha,', 'proximal': 'tubularized,incised,plate,hypospadias,repair', 'hypospadias': 'tubularized,incised,plate,hypospadias,repair', 'bladder': 'photodynamic,therapy,in,combination,with,mitomycin,c', 'line': 'photodynamic,therapy,in,combination,with,mitomycin,c', 'rectal': 'nerve-sparing,surgery', 'cerebral': 'antiplatelet,therapy,hyperbaric,oxygen,therapy', 'ischemia': 'antiplatelet,therapy', 'angiogenesis': 'gene,therapy', 'epithelial': 'chemotherapy,high-dose,chemotherapy,with,autologous,stem-cell,support', 'multiple': 'interferon,beta,treatment,intravenous,immunoglobulin,treatment', 'sclerosis': 'interferon,beta,treatment,intravenous,immunoglobulin,treatment', 'palsy': 'hyperbaric,oxygen,therapy', 'b': 'vaccine,containing,mf59,adjuvant', 'severe': 'surgical,management,', 'secondary': 'surgical,management', 'peritonitis': 'surgical,management', 'hepatic': 'hepatic,arterial,infusion,of,chemotherapy,after,resection'}\n"
          ]
        }
      ],
      "source": [
        "treat_dict = {}\n",
        "for sentence,pred in zip(test_corpus,y_pred):\n",
        "    treatment = []\n",
        "    if \"T\" in pred:\n",
        "        for count,i in enumerate(pred):\n",
        "            if i == \"T\":\n",
        "                treatment.append(sentence.split()[count].lower())\n",
        "    treatment = \",\".join(treatment)\n",
        "    for count,i in enumerate(pred):\n",
        "        if i == \"D\":\n",
        "            disease = sentence.split()[count].lower()\n",
        "            if disease not in treat_dict.keys():\n",
        "                if len(treatment) > 0:\n",
        "                    treat_dict[disease] = treatment\n",
        "            else:\n",
        "                treat_dict[disease] = treat_dict[disease] + \",\" + treatment\n",
        "\n",
        "print(treat_dict)"
      ]
    },
    {
      "cell_type": "markdown",
      "metadata": {
        "id": "TvTodSY5OfZ9"
      },
      "source": [
        "### Predicting the treatment for the disease name: 'hereditary retinoblastoma'"
      ]
    },
    {
      "cell_type": "code",
      "execution_count": 37,
      "metadata": {
        "id": "uZNBLMFYVuhv"
      },
      "outputs": [
        {
          "name": "stdout",
          "output_type": "stream",
          "text": [
            "The treatment for disease hereditary retinoblastoma is \n",
            "radiotherapy\n",
            "radiotherapy\n"
          ]
        }
      ],
      "source": [
        "print(\"The treatment for the disease hereditary retinoblastoma is \")\n",
        "print(treat_dict[\"hereditary\"])\n",
        "print(treat_dict[\"retinoblastoma\"])"
      ]
    }
  ],
  "metadata": {
    "colab": {
      "collapsed_sections": [],
      "name": "Assignment.ipynb",
      "provenance": []
    },
    "kernelspec": {
      "display_name": "Python 3.9.13 ('tensor')",
      "language": "python",
      "name": "python3"
    },
    "language_info": {
      "codemirror_mode": {
        "name": "ipython",
        "version": 3
      },
      "file_extension": ".py",
      "mimetype": "text/x-python",
      "name": "python",
      "nbconvert_exporter": "python",
      "pygments_lexer": "ipython3",
      "version": "3.9.13"
    },
    "vscode": {
      "interpreter": {
        "hash": "88e2057b02efb983af798ea7466d9d8607465b7c49783a7167020936a3653e04"
      }
    }
  },
  "nbformat": 4,
  "nbformat_minor": 0
}
